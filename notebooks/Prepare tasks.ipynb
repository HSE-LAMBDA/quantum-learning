{
 "cells": [
  {
   "cell_type": "code",
   "execution_count": 20,
   "metadata": {},
   "outputs": [],
   "source": [
    "import numpy as np\n",
    "import json\n",
    "import os\n",
    "\n",
    "\n",
    "tasks = []\n",
    "\n",
    "n_qubits_range = list(range(1,11))\n",
    "get_experiments_cnt = lambda n_qubits: 1000/(n_qubits**2)\n",
    "\n",
    "def get_tensor_ranks(n_qubits: int, n:int=10):\n",
    "    return list(set([int(x) for x in np.logspace(0, n_qubits+2, n, base=2)]))\n",
    "\n",
    "algorithms = ['meg', 'dd_meg', 'cholesky']\n",
    "data_types = ['pure', 'mixed']\n",
    "\n",
    "task_id = 0\n",
    "for n_qubits in n_qubits_range:\n",
    "    experiments_cnt = get_experiments_cnt(n_qubits)\n",
    "    for algorithm in algorithms:\n",
    "        for data_type in data_types:\n",
    "            task = {'id': task_id, 'algorithm': algorithm, 'n_qubits': n_qubits, \n",
    "                    'data_type': data_type, 'executions_cnt': int(experiments_cnt)}\n",
    "            tasks.append(task)\n",
    "            task_id += 1\n",
    "\n",
    "for n_qubits in n_qubits_range:\n",
    "    experiments_cnt = get_experiments_cnt(n_qubits)\n",
    "    for tensor_rank in get_tensor_ranks(n_qubits):\n",
    "        for data_type in data_types:\n",
    "            task = {'id': task_id, 'algorithm': 'lptn', 'n_qubits': n_qubits, 'tensor_rank': tensor_rank, \n",
    "                    'data_type': data_type, 'executions_cnt': int(experiments_cnt)}\n",
    "            tasks.append(task)\n",
    "            task_id += 1\n",
    "        \n",
    "        \n",
    "for file in os.listdir('../data/'):\n",
    "    for algorithm in algorithms:\n",
    "        task = {'id': task_id, 'algorithm': algorithm, 'executions_cnt': 1, \n",
    "                'file': f'../data/{file}', 'data_type': 'real'}\n",
    "        tasks.append(task)\n",
    "        task_id += 1\n",
    "\n",
    "for file in os.listdir('../data/'):\n",
    "    n_qubits = int(np.log2(int(file.split('_')[-2].replace('dim', ''))))\n",
    "    for tensor_rank in get_tensor_ranks(n_qubits):\n",
    "        task = {'id': task_id, 'algorithm': 'lptn', 'n_qubits': n_qubits, 'tensor_rank': tensor_rank, \n",
    "                'data_type': 'real', 'executions_cnt': 1}\n",
    "        tasks.append(task)\n",
    "        task_id += 1\n",
    "        \n",
    "with open('../experiments/tasks.json', 'w') as f:\n",
    "    f.write(json.dumps(tasks, sort_keys=True, indent=4))"
   ]
  },
  {
   "cell_type": "code",
   "execution_count": 22,
   "metadata": {},
   "outputs": [
    {
     "data": {
      "text/plain": [
       "54.92"
      ]
     },
     "execution_count": 22,
     "metadata": {},
     "output_type": "execute_result"
    }
   ],
   "source": [
    "sum([t['executions_cnt'] for t in tasks])/600"
   ]
  },
  {
   "cell_type": "code",
   "execution_count": 45,
   "metadata": {},
   "outputs": [
    {
     "data": {
      "text/plain": [
       "545"
      ]
     },
     "execution_count": 45,
     "metadata": {},
     "output_type": "execute_result"
    }
   ],
   "source": [
    "import re\n",
    "import subprocess\n",
    "\n",
    "def get_gpu_memory(pid):\n",
    "    output = subprocess.run(['nvidia-smi'], stdout=subprocess.PIPE).stdout.decode()\n",
    "    for line in output.split('\\n'):\n",
    "        res = re.findall(f'.*\\d*\\s*{pid}\\s*[CG]\\s*.*python\\s*(\\d*)MiB.*', line)\n",
    "        if res: return int(res[0]) # Mb\n",
    "\n",
    "        \n",
    "get_gpu_memory(13735)"
   ]
  },
  {
   "cell_type": "code",
   "execution_count": 47,
   "metadata": {},
   "outputs": [
    {
     "data": {
      "text/plain": [
       "46.921875"
      ]
     },
     "execution_count": 47,
     "metadata": {},
     "output_type": "execute_result"
    }
   ],
   "source": [
    "import psutil\n",
    "\n",
    "def get_ram_memory_usage():\n",
    "    process = psutil.Process(os.getpid())\n",
    "    return process.memory_info().rss / (1024**2)  # in Mb\n",
    "\n",
    "get_ram_memory_usage()"
   ]
  },
  {
   "cell_type": "code",
   "execution_count": null,
   "metadata": {},
   "outputs": [],
   "source": []
  }
 ],
 "metadata": {
  "kernelspec": {
   "display_name": "Python 3",
   "language": "python",
   "name": "python3"
  },
  "language_info": {
   "codemirror_mode": {
    "name": "ipython",
    "version": 3
   },
   "file_extension": ".py",
   "mimetype": "text/x-python",
   "name": "python",
   "nbconvert_exporter": "python",
   "pygments_lexer": "ipython3",
   "version": "3.8.5"
  }
 },
 "nbformat": 4,
 "nbformat_minor": 4
}
