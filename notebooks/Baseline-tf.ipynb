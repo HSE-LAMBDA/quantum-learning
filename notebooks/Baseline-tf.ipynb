{
 "cells": [
  {
   "cell_type": "code",
   "execution_count": 1,
   "metadata": {},
   "outputs": [],
   "source": [
    "import sys\n",
    "import numpy as np\n",
    "import tensorflow as tf\n",
    "import matplotlib.pyplot as plt\n",
    "%matplotlib inline\n",
    "sys.path.append('..')\n",
    "from IPython.display import clear_output\n",
    "from scipy.linalg import sqrtm\n",
    "from lib import simulator"
   ]
  },
  {
   "cell_type": "code",
   "execution_count": 2,
   "metadata": {},
   "outputs": [],
   "source": [
    "rho = np.array([[1., 0.], [0., 0.]]) # target state\n",
    "dim = rho.shape[0]\n",
    "\n",
    "projectors_cnt = 10\n",
    "measurements_cnt = 100\n",
    "\n",
    "train_size = projectors_cnt * measurements_cnt\n",
    "train_X, train_y = simulator.generate_dataset(rho, projectors_cnt, measurements_cnt)\n",
    "train_y = train_y.astype('float64')"
   ]
  },
  {
   "cell_type": "code",
   "execution_count": 3,
   "metadata": {},
   "outputs": [
    {
     "name": "stderr",
     "output_type": "stream",
     "text": [
      "WARNING: Logging before flag parsing goes to stderr.\n",
      "W0831 09:22:45.001593 139825193596672 deprecation.py:323] From /mnt/spopov/miniconda3/envs/dl/lib/python3.7/site-packages/tensorflow/python/ops/losses/losses_impl.py:121: add_dispatch_support.<locals>.wrapper (from tensorflow.python.ops.array_ops) is deprecated and will be removed in a future version.\n",
      "Instructions for updating:\n",
      "Use tf.where in 2.0, which has the same broadcast rule as np.where\n"
     ]
    }
   ],
   "source": [
    "sess = tf.InteractiveSession()\n",
    "\n",
    "M_real, M_img = tf.Variable(tf.random_normal([dim, dim])), tf.Variable(tf.random_normal([dim, dim]))\n",
    "M = tf.complex(M_real, M_img)\n",
    "\n",
    "rho_ph = tf.placeholder(dtype=M.dtype, shape=[dim, dim])\n",
    "x_ph = tf.placeholder(dtype=M.dtype, shape=[None, dim, dim])\n",
    "y_ph = tf.placeholder(dtype=tf.float32, shape=[None])\n",
    "\n",
    "sigma = tf.matmul(tf.conj(M), M, transpose_a=True)\n",
    "sigma /= tf.trace(sigma)\n",
    "\n",
    "measurements = tf.real(tf.trace(tf.einsum('bij,jk->bik', x_ph, rho_ph)))\n",
    "prediction = tf.real(tf.trace(tf.einsum('bij,jk->bik', x_ph, sigma)))\n",
    "loss = tf.losses.mean_squared_error(prediction, y_ph)\n",
    "\n",
    "update_M = tf.train.GradientDescentOptimizer(learning_rate=1e-1).minimize(loss, var_list=[M_real, M_img])\n",
    "sess.run(tf.global_variables_initializer())"
   ]
  },
  {
   "cell_type": "code",
   "execution_count": 4,
   "metadata": {},
   "outputs": [],
   "source": [
    "epoches = int(5e3)\n",
    "loss_history = []\n",
    "metrics_history = []\n",
    "measurements_rho = sess.run(measurements, {x_ph: train_X, rho_ph: rho})"
   ]
  },
  {
   "cell_type": "code",
   "execution_count": 5,
   "metadata": {},
   "outputs": [
    {
     "data": {
      "image/png": "[encoded data removed]",
      "text/plain": [
       "<Figure size 864x432 with 2 Axes>"
      ]
     },
     "metadata": {
      "needs_background": "light"
     },
     "output_type": "display_data"
    },
    {
     "name": "stdout",
     "output_type": "stream",
     "text": [
      "Epoch: 1150, Loss: 0.16777805984020233, Metrics: 0.028246723115444183\n"
     ]
    }
   ],
   "source": [
    "for t in range(epoches):\n",
    "    loss_t, _ = sess.run([loss, update_M], {x_ph: train_X, y_ph: train_y})\n",
    "    loss_history.append(loss_t)\n",
    "    \n",
    "    sigma_pred = sess.run(sigma)\n",
    "    measurements_sigma = sess.run(measurements, {x_ph: train_X, rho_ph: sigma_pred})\n",
    "    \n",
    "    diff = abs(measurements_sigma - measurements_rho)\n",
    "    metrics_history.append(diff.mean())\n",
    "    \n",
    "    if t > 0 and abs(loss_history[-1] - loss_history[-2]) < 1e-7:\n",
    "        break\n",
    "    \n",
    "    if t % 50 == 0:\n",
    "        clear_output(True)\n",
    "        plt.figure(figsize=[12, 6])\n",
    "        plt.subplot(1, 2, 1)\n",
    "        plt.plot(loss_history)\n",
    "        plt.grid()\n",
    "        plt.subplot(1, 2, 2)\n",
    "        plt.plot(metrics_history, label='metrics')\n",
    "        plt.legend()\n",
    "        plt.grid()\n",
    "        plt.show()\n",
    "        print(f'Epoch: {t}, Loss: {loss_t}, Metrics: {metrics_history[-1]}')"
   ]
  },
  {
   "cell_type": "code",
   "execution_count": 6,
   "metadata": {},
   "outputs": [
    {
     "data": {
      "text/plain": [
       "array([[ 0.97273886+1.7107883e-10j, -0.02010348-3.3740059e-02j],\n",
       "       [-0.02010349+3.3740059e-02j,  0.02726113-1.7107882e-10j]],\n",
       "      dtype=complex64)"
      ]
     },
     "execution_count": 6,
     "metadata": {},
     "output_type": "execute_result"
    }
   ],
   "source": [
    "sigma_pred = sess.run(sigma)\n",
    "sigma_pred"
   ]
  },
  {
   "cell_type": "code",
   "execution_count": 7,
   "metadata": {},
   "outputs": [],
   "source": [
    "def tf_fidelity(state_1, state_2):\n",
    "    state_1_sqrt = tf.linalg.sqrtm(state_1)\n",
    "    F = tf.matmul(tf.matmul(state_1_sqrt, state_2), state_1_sqrt)\n",
    "    return tf.real(tf.trace(tf.linalg.sqrtm(F)) ** 2)"
   ]
  },
  {
   "cell_type": "code",
   "execution_count": 8,
   "metadata": {
    "scrolled": false
   },
   "outputs": [
    {
     "data": {
      "text/plain": [
       "0.97273886"
      ]
     },
     "execution_count": 8,
     "metadata": {},
     "output_type": "execute_result"
    }
   ],
   "source": [
    "fidelity = tf_fidelity(rho.astype(np.complex64), sigma_pred)\n",
    "sess.run(fidelity)"
   ]
  },
  {
   "cell_type": "code",
   "execution_count": null,
   "metadata": {},
   "outputs": [],
   "source": []
  }
 ],
 "metadata": {
  "kernelspec": {
   "display_name": "Python 3",
   "language": "python",
   "name": "python3"
  },
  "language_info": {
   "codemirror_mode": {
    "name": "ipython",
    "version": 3
   },
   "file_extension": ".py",
   "mimetype": "text/x-python",
   "name": "python",
   "nbconvert_exporter": "python",
   "pygments_lexer": "ipython3",
   "version": "3.7.2"
  }
 },
 "nbformat": 4,
 "nbformat_minor": 2
}
