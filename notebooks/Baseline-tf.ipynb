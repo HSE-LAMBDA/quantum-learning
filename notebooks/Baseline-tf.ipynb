{
 "cells": [
  {
   "cell_type": "code",
   "execution_count": 1,
   "metadata": {},
   "outputs": [],
   "source": [
    "import sys\n",
    "import numpy as np\n",
    "import tensorflow as tf\n",
    "import matplotlib.pyplot as plt\n",
    "from IPython.display import clear_output\n",
    "%matplotlib inline\n",
    "sys.path.append('..')\n",
    "import lib"
   ]
  },
  {
   "cell_type": "code",
   "execution_count": 2,
   "metadata": {},
   "outputs": [],
   "source": [
    "rho = np.array([[1., 0.], [0., 0.]]) # target state\n",
    "dim = rho.shape[0]\n",
    "\n",
    "projectors_cnt = 10\n",
    "measurements_cnt = 100\n",
    "\n",
    "train_size = projectors_cnt * measurements_cnt\n",
    "train_X, train_y = lib.generate_dataset(rho, projectors_cnt, measurements_cnt)\n",
    "train_y = train_y.astype('float64')"
   ]
  },
  {
   "cell_type": "code",
   "execution_count": 3,
   "metadata": {},
   "outputs": [
    {
     "name": "stderr",
     "output_type": "stream",
     "text": [
      "WARNING: Logging before flag parsing goes to stderr.\n",
      "W0904 09:44:47.596507 140315968067328 deprecation.py:323] From /mnt/spopov/miniconda3/envs/py36/lib/python3.6/site-packages/tensorflow/python/ops/losses/losses_impl.py:121: add_dispatch_support.<locals>.wrapper (from tensorflow.python.ops.array_ops) is deprecated and will be removed in a future version.\n",
      "Instructions for updating:\n",
      "Use tf.where in 2.0, which has the same broadcast rule as np.where\n"
     ]
    }
   ],
   "source": [
    "x_ph = tf.placeholder(dtype=tf.complex64, shape=[None, dim, dim])\n",
    "y_ph = tf.placeholder(dtype=tf.float32, shape=[None])\n",
    "\n",
    "model = lib.BaselineModel(x_ph, y_ph)"
   ]
  },
  {
   "cell_type": "code",
   "execution_count": 4,
   "metadata": {},
   "outputs": [],
   "source": [
    "epoches = int(5e3)\n",
    "eps = 1e-7\n",
    "loss_history = []\n",
    "metrics_history = []\n",
    "measurements_rho = np.array([lib.simulator.bornRule(x, rho) for x in train_X])\n",
    "\n",
    "sess = tf.InteractiveSession()\n",
    "sess.run(tf.global_variables_initializer())"
   ]
  },
  {
   "cell_type": "code",
   "execution_count": 5,
   "metadata": {},
   "outputs": [
    {
     "data": {
      "image/png": "[encoded data removed]",
      "text/plain": [
       "<Figure size 864x432 with 2 Axes>"
      ]
     },
     "metadata": {
      "needs_background": "light"
     },
     "output_type": "display_data"
    },
    {
     "name": "stdout",
     "output_type": "stream",
     "text": [
      "Epoch: 1600, Loss: 0.1897960901260376, Metrics: 0.017377058183300147\n"
     ]
    }
   ],
   "source": [
    "for t in range(epoches):\n",
    "    loss_t, _ = sess.run([model.loss, model.optimize], {x_ph: train_X, y_ph: train_y})\n",
    "    loss_history.append(loss_t)\n",
    "    \n",
    "    sigma = sess.run(model.sigma)\n",
    "    measurements_sigma = np.array([lib.simulator.bornRule(x, sigma) for x in train_X])\n",
    "    \n",
    "    diff = abs(measurements_sigma - measurements_rho)\n",
    "    metrics_history.append(diff.mean())\n",
    "    \n",
    "    if t > 0 and abs(loss_history[-1] - loss_history[-2]) < eps:\n",
    "        break\n",
    "    \n",
    "    if t % 50 == 0:\n",
    "        clear_output(True)\n",
    "        plt.figure(figsize=[12, 6])\n",
    "        plt.subplot(1, 2, 1)\n",
    "        plt.plot(loss_history)\n",
    "        plt.grid()\n",
    "        plt.subplot(1, 2, 2)\n",
    "        plt.plot(metrics_history, label='metrics')\n",
    "        plt.legend()\n",
    "        plt.grid()\n",
    "        plt.show()\n",
    "        print(f'Epoch: {t}, Loss: {loss_t}, Metrics: {diff.mean()}')"
   ]
  },
  {
   "cell_type": "code",
   "execution_count": 6,
   "metadata": {},
   "outputs": [
    {
     "data": {
      "text/plain": [
       "array([[ 0.9811514 +3.1643918e-10j, -0.02716913+2.6840714e-03j],\n",
       "       [-0.02716913-2.6840693e-03j,  0.01884858-3.1643976e-10j]],\n",
       "      dtype=complex64)"
      ]
     },
     "execution_count": 6,
     "metadata": {},
     "output_type": "execute_result"
    }
   ],
   "source": [
    "sigma = sess.run(model.sigma)\n",
    "sigma"
   ]
  },
  {
   "cell_type": "code",
   "execution_count": 7,
   "metadata": {},
   "outputs": [
    {
     "data": {
      "text/plain": [
       "0.9811514019966125"
      ]
     },
     "execution_count": 7,
     "metadata": {},
     "output_type": "execute_result"
    }
   ],
   "source": [
    "lib.fidelity(rho, sigma)"
   ]
  },
  {
   "cell_type": "code",
   "execution_count": null,
   "metadata": {},
   "outputs": [],
   "source": []
  }
 ],
 "metadata": {
  "kernelspec": {
   "display_name": "Python 3",
   "language": "python",
   "name": "python3"
  },
  "language_info": {
   "codemirror_mode": {
    "name": "ipython",
    "version": 3
   },
   "file_extension": ".py",
   "mimetype": "text/x-python",
   "name": "python",
   "nbconvert_exporter": "python",
   "pygments_lexer": "ipython3",
   "version": "3.6.7"
  }
 },
 "nbformat": 4,
 "nbformat_minor": 2
}
