{
 "cells": [
  {
   "cell_type": "code",
   "execution_count": 4,
   "metadata": {},
   "outputs": [],
   "source": [
    "import sys\n",
    "import torch\n",
    "import tntorch as tn\n",
    "import numpy as np\n",
    "sys.path.append('..')\n",
    "import lib"
   ]
  },
  {
   "cell_type": "code",
   "execution_count": 5,
   "metadata": {},
   "outputs": [],
   "source": [
    "rho, train_X, train_y = lib.read_data('../data/2020_01_29_stabilizer_dim32_0.dat')\n",
    "dim = rho.shape[0]\n",
    "n_qubits = np.log2(dim)\n",
    "\n",
    "tensor_rank = 2**n_qubits\n",
    "batch_size = 100\n",
    "lr = 1e-3\n",
    "\n",
    "sigma = lib.simulator.randomMixedState(rho.shape[0])\n",
    "sigma_real, sigma_imag = [tn.Tensor(x, ranks_tt=tensor_rank, requires_grad=True) for x in [np.real(sigma), np.imag(sigma)]]\n",
    "\n",
    "epoches = 10"
   ]
  },
  {
   "cell_type": "code",
   "execution_count": 3,
   "metadata": {
    "scrolled": false
   },
   "outputs": [
    {
     "name": "stdout",
     "output_type": "stream",
     "text": [
      "Ranger optimizer loaded. \n",
      "Gradient Centralization usage = True\n",
      "GC applied to both conv and fc layers\n",
      "iter: 0 |  loss: 0.0693553015589714 | eval_loss: -0.032980682197801356 | total time: 0.15485048294067383\n"
     ]
    },
    {
     "name": "stderr",
     "output_type": "stream",
     "text": [
      "../lib/optim.py:144: UserWarning: This overload of addcmul_ is deprecated:\n",
      "\taddcmul_(Number value, Tensor tensor1, Tensor tensor2)\n",
      "Consider using one of the following signatures instead:\n",
      "\taddcmul_(Tensor tensor1, Tensor tensor2, *, Number value) (Triggered internally at  /opt/conda/conda-bld/pytorch_1595629395347/work/torch/csrc/utils/python_arg_parser.cpp:766.)\n",
      "  exp_avg_sq.mul_(beta2).addcmul_(1 - beta2, grad, grad)\n"
     ]
    },
    {
     "name": "stdout",
     "output_type": "stream",
     "text": [
      "iter: 10 |  loss: 0.10407236963510513 | eval_loss: -0.03275117826339562 | total time: 1.876960277557373\n",
      "iter: 20 |  loss: 0.07292797416448593 | eval_loss: -0.032307296651789136 | total time: 3.58223819732666\n",
      "iter: 30 |  loss: 0.06750720739364624 | eval_loss: -0.03192692081699592 | total time: 5.304423809051514\n",
      "iter: 40 |  loss: 0.06023620069026947 | eval_loss: -0.031113293758261343 | total time: 7.051975965499878\n",
      "iter: 50 |  loss: 0.05828048288822174 | eval_loss: -0.03031504667002871 | total time: 8.7970712184906\n",
      "iter: 60 |  loss: 0.08885950595140457 | eval_loss: -0.029413496646986996 | total time: 10.539334774017334\n",
      "iter: 70 |  loss: 0.08635924756526947 | eval_loss: -0.028157906478086886 | total time: 12.276161670684814\n",
      "iter: 80 |  loss: 0.05842368304729462 | eval_loss: -0.027438845535462737 | total time: 14.016284227371216\n",
      "iter: 90 |  loss: 0.08159654587507248 | eval_loss: -0.02712837810887034 | total time: 15.748546361923218\n",
      "iter: 100 |  loss: 0.051363151520490646 | eval_loss: -0.02681260429264934 | total time: 17.466114044189453\n",
      "iter: 110 |  loss: 0.07458832859992981 | eval_loss: -0.02678628562327121 | total time: 19.182273149490356\n",
      "iter: 120 |  loss: 0.08228940516710281 | eval_loss: -0.026646009284381936 | total time: 20.89573097229004\n",
      "iter: 130 |  loss: 0.0495842881500721 | eval_loss: -0.026883397515412286 | total time: 22.60697364807129\n",
      "iter: 140 |  loss: 0.04952726513147354 | eval_loss: -0.027622974960525144 | total time: 24.318417072296143\n",
      "iter: 150 |  loss: 0.06216476485133171 | eval_loss: -0.02793005082462856 | total time: 26.032163858413696\n",
      "iter: 160 |  loss: 0.05803399905562401 | eval_loss: -0.02834851616168463 | total time: 27.746097564697266\n",
      "iter: 170 |  loss: 0.039838820695877075 | eval_loss: -0.028827472631636764 | total time: 29.46071743965149\n",
      "iter: 180 |  loss: 0.03875035047531128 | eval_loss: -0.028914201694028745 | total time: 31.17353892326355\n",
      "iter: 190 |  loss: 0.05429719761013985 | eval_loss: -0.030517894791283397 | total time: 32.88658046722412\n",
      "iter: 200 |  loss: 0.06340795755386353 | eval_loss: -0.031443011146383086 | total time: 34.59955978393555\n",
      "iter: 210 |  loss: 0.06113159656524658 | eval_loss: -0.03262253075615353 | total time: 36.31368088722229\n",
      "iter: 220 |  loss: 0.03345317393541336 | eval_loss: -0.03569935053237298 | total time: 38.028789043426514\n",
      "iter: 230 |  loss: 0.03988919407129288 | eval_loss: -0.03740108065854945 | total time: 39.7438542842865\n",
      "iter: 240 |  loss: 0.03611861541867256 | eval_loss: -0.03881620521732417 | total time: 41.45820331573486\n",
      "iter: 250 |  loss: 0.03404086083173752 | eval_loss: -0.04154801038507599 | total time: 43.17192053794861\n",
      "iter: 260 |  loss: 0.03188912943005562 | eval_loss: -0.04189335886212654 | total time: 44.88335061073303\n",
      "iter: 270 |  loss: 0.034982625395059586 | eval_loss: -0.04204512802042169 | total time: 46.595147132873535\n",
      "iter: 280 |  loss: 0.04152367636561394 | eval_loss: -0.043323735767684224 | total time: 48.30747842788696\n",
      "iter: 290 |  loss: 0.05636249855160713 | eval_loss: -0.04192136248208357 | total time: 50.02085542678833\n",
      "iter: 300 |  loss: 0.038179799914360046 | eval_loss: -0.042054787547690695 | total time: 51.737677574157715\n",
      "iter: 310 |  loss: 0.04226018860936165 | eval_loss: -0.041356845764513595 | total time: 53.45273303985596\n",
      "iter: 320 |  loss: 0.031153790652751923 | eval_loss: -0.04151726509422123 | total time: 55.166062355041504\n",
      "iter: 330 |  loss: 0.0342668853700161 | eval_loss: -0.040568458960653066 | total time: 56.88035702705383\n",
      "iter: 340 |  loss: 0.05142132192850113 | eval_loss: -0.0388500021861397 | total time: 58.59727740287781\n",
      "iter: 350 |  loss: 0.05259101092815399 | eval_loss: -0.038046046643953293 | total time: 60.31275963783264\n",
      "iter: 360 |  loss: 0.032539527863264084 | eval_loss: -0.037265443338521886 | total time: 62.02846574783325\n",
      "iter: 370 |  loss: 0.03932803124189377 | eval_loss: -0.03679387014054614 | total time: 63.74629044532776\n",
      "iter: 380 |  loss: 0.0355294831097126 | eval_loss: -0.037278107022897904 | total time: 65.46020650863647\n",
      "iter: 390 |  loss: 0.04725632071495056 | eval_loss: -0.03761900727924778 | total time: 67.17303586006165\n",
      "iter: 400 |  loss: 0.03617776930332184 | eval_loss: -0.0379230094927659 | total time: 68.88797879219055\n",
      "iter: 410 |  loss: 0.030894212424755096 | eval_loss: -0.03593941759747391 | total time: 70.60346341133118\n",
      "iter: 420 |  loss: 0.04009151831269264 | eval_loss: -0.03443922596150812 | total time: 72.31926226615906\n",
      "iter: 430 |  loss: 0.04912515729665756 | eval_loss: -0.03431785322150238 | total time: 74.04057240486145\n",
      "iter: 440 |  loss: 0.03971715644001961 | eval_loss: -0.034428313089939884 | total time: 75.7541823387146\n",
      "iter: 450 |  loss: 0.03587019816040993 | eval_loss: -0.03436005852183446 | total time: 77.46799731254578\n",
      "iter: 460 |  loss: 0.0484347864985466 | eval_loss: -0.03486597518575719 | total time: 79.18269276618958\n",
      "iter: 470 |  loss: 0.034582898020744324 | eval_loss: -0.03509519725632096 | total time: 80.93706130981445\n",
      "iter: 480 |  loss: 0.04583415389060974 | eval_loss: -0.03381111546379247 | total time: 82.65472030639648\n",
      "iter: 490 |  loss: 0.042822644114494324 | eval_loss: -0.03403631626570862 | total time: 84.37027287483215\n",
      "iter: 500 |  loss: 0.03130629286170006 | eval_loss: -0.03412805157250418 | total time: 86.08488583564758\n",
      "iter: 510 |  loss: 0.036956023424863815 | eval_loss: -0.03564884501591295 | total time: 87.79995656013489\n",
      "iter: 520 |  loss: 0.03881566599011421 | eval_loss: -0.0393764366305157 | total time: 89.51388335227966\n"
     ]
    },
    {
     "ename": "KeyboardInterrupt",
     "evalue": "",
     "output_type": "error",
     "traceback": [
      "\u001b[0;31m---------------------------------------------------------------------------\u001b[0m",
      "\u001b[0;31mKeyboardInterrupt\u001b[0m                         Traceback (most recent call last)",
      "\u001b[0;32m<timed exec>\u001b[0m in \u001b[0;36m<module>\u001b[0;34m\u001b[0m\n",
      "\u001b[0;32m~/Documents/HSE/quantum-learning/lib/optim.py\u001b[0m in \u001b[0;36mtn_optimize\u001b[0;34m(tensors, loss_function, eval_function, optimizer, tol, max_iter, print_freq, verbose, patience, lr)\u001b[0m\n\u001b[1;32m    230\u001b[0m     \u001b[0;32mwhile\u001b[0m \u001b[0;32mTrue\u001b[0m\u001b[0;34m:\u001b[0m\u001b[0;34m\u001b[0m\u001b[0;34m\u001b[0m\u001b[0m\n\u001b[1;32m    231\u001b[0m         \u001b[0moptimizer\u001b[0m\u001b[0;34m.\u001b[0m\u001b[0mzero_grad\u001b[0m\u001b[0;34m(\u001b[0m\u001b[0;34m)\u001b[0m\u001b[0;34m\u001b[0m\u001b[0;34m\u001b[0m\u001b[0m\n\u001b[0;32m--> 232\u001b[0;31m         \u001b[0mloss\u001b[0m \u001b[0;34m=\u001b[0m \u001b[0mloss_function\u001b[0m\u001b[0;34m(\u001b[0m\u001b[0;34m*\u001b[0m\u001b[0mtensors\u001b[0m\u001b[0;34m)\u001b[0m\u001b[0;34m\u001b[0m\u001b[0;34m\u001b[0m\u001b[0m\n\u001b[0m\u001b[1;32m    233\u001b[0m         \u001b[0;32mif\u001b[0m \u001b[0;32mnot\u001b[0m \u001b[0misinstance\u001b[0m\u001b[0;34m(\u001b[0m\u001b[0mloss\u001b[0m\u001b[0;34m,\u001b[0m \u001b[0;34m(\u001b[0m\u001b[0mtuple\u001b[0m\u001b[0;34m,\u001b[0m \u001b[0mlist\u001b[0m\u001b[0;34m)\u001b[0m\u001b[0;34m)\u001b[0m\u001b[0;34m:\u001b[0m\u001b[0;34m\u001b[0m\u001b[0;34m\u001b[0m\u001b[0m\n\u001b[1;32m    234\u001b[0m             \u001b[0mloss\u001b[0m \u001b[0;34m=\u001b[0m \u001b[0;34m[\u001b[0m\u001b[0mloss\u001b[0m\u001b[0;34m]\u001b[0m\u001b[0;34m\u001b[0m\u001b[0;34m\u001b[0m\u001b[0m\n",
      "\u001b[0;32m<timed exec>\u001b[0m in \u001b[0;36mloss\u001b[0;34m(sigma_real, sigma_imag)\u001b[0m\n",
      "\u001b[0;32m~/anaconda3/envs/dl/lib/python3.8/site-packages/tntorch/tensor.py\u001b[0m in \u001b[0;36mdot\u001b[0;34m(self, other, **kwargs)\u001b[0m\n\u001b[1;32m   1538\u001b[0m         \"\"\"\n\u001b[1;32m   1539\u001b[0m \u001b[0;34m\u001b[0m\u001b[0m\n\u001b[0;32m-> 1540\u001b[0;31m         \u001b[0;32mreturn\u001b[0m \u001b[0mtn\u001b[0m\u001b[0;34m.\u001b[0m\u001b[0mdot\u001b[0m\u001b[0;34m(\u001b[0m\u001b[0mself\u001b[0m\u001b[0;34m,\u001b[0m \u001b[0mother\u001b[0m\u001b[0;34m,\u001b[0m \u001b[0;34m**\u001b[0m\u001b[0mkwargs\u001b[0m\u001b[0;34m)\u001b[0m\u001b[0;34m\u001b[0m\u001b[0;34m\u001b[0m\u001b[0m\n\u001b[0m\u001b[1;32m   1541\u001b[0m \u001b[0;34m\u001b[0m\u001b[0m\n\u001b[1;32m   1542\u001b[0m     \u001b[0;32mdef\u001b[0m \u001b[0mmean\u001b[0m\u001b[0;34m(\u001b[0m\u001b[0mself\u001b[0m\u001b[0;34m,\u001b[0m \u001b[0;34m**\u001b[0m\u001b[0mkwargs\u001b[0m\u001b[0;34m)\u001b[0m\u001b[0;34m:\u001b[0m\u001b[0;34m\u001b[0m\u001b[0;34m\u001b[0m\u001b[0m\n",
      "\u001b[0;32m~/anaconda3/envs/dl/lib/python3.8/site-packages/tntorch/metrics.py\u001b[0m in \u001b[0;36mdot\u001b[0;34m(t1, t2, k)\u001b[0m\n\u001b[1;32m     85\u001b[0m         \u001b[0mVcore\u001b[0m \u001b[0;34m=\u001b[0m \u001b[0mcore2\u001b[0m\u001b[0;34m\u001b[0m\u001b[0;34m\u001b[0m\u001b[0m\n\u001b[1;32m     86\u001b[0m         \u001b[0;32mif\u001b[0m \u001b[0mVcore\u001b[0m\u001b[0;34m.\u001b[0m\u001b[0mdim\u001b[0m\u001b[0;34m(\u001b[0m\u001b[0;34m)\u001b[0m \u001b[0;34m==\u001b[0m \u001b[0;36m3\u001b[0m\u001b[0;34m:\u001b[0m\u001b[0;34m\u001b[0m\u001b[0;34m\u001b[0m\u001b[0m\n\u001b[0;32m---> 87\u001b[0;31m             \u001b[0mLprod\u001b[0m \u001b[0;34m=\u001b[0m \u001b[0mtorch\u001b[0m\u001b[0;34m.\u001b[0m\u001b[0mmatmul\u001b[0m\u001b[0;34m(\u001b[0m\u001b[0mtn\u001b[0m\u001b[0;34m.\u001b[0m\u001b[0mleft_unfolding\u001b[0m\u001b[0;34m(\u001b[0m\u001b[0mVcore\u001b[0m\u001b[0;34m)\u001b[0m\u001b[0;34m.\u001b[0m\u001b[0mt\u001b[0m\u001b[0;34m(\u001b[0m\u001b[0;34m)\u001b[0m\u001b[0;34m,\u001b[0m \u001b[0mtn\u001b[0m\u001b[0;34m.\u001b[0m\u001b[0mleft_unfolding\u001b[0m\u001b[0;34m(\u001b[0m\u001b[0mUcore\u001b[0m\u001b[0;34m)\u001b[0m\u001b[0;34m)\u001b[0m\u001b[0;34m\u001b[0m\u001b[0;34m\u001b[0m\u001b[0m\n\u001b[0m\u001b[1;32m     88\u001b[0m         \u001b[0;32melse\u001b[0m\u001b[0;34m:\u001b[0m\u001b[0;34m\u001b[0m\u001b[0;34m\u001b[0m\u001b[0m\n\u001b[1;32m     89\u001b[0m             \u001b[0mLprod\u001b[0m \u001b[0;34m=\u001b[0m \u001b[0mtorch\u001b[0m\u001b[0;34m.\u001b[0m\u001b[0meinsum\u001b[0m\u001b[0;34m(\u001b[0m\u001b[0;34m'as,sar->sr'\u001b[0m\u001b[0;34m,\u001b[0m \u001b[0;34m(\u001b[0m\u001b[0mVcore\u001b[0m\u001b[0;34m,\u001b[0m \u001b[0mUcore\u001b[0m\u001b[0;34m)\u001b[0m\u001b[0;34m)\u001b[0m\u001b[0;34m\u001b[0m\u001b[0;34m\u001b[0m\u001b[0m\n",
      "\u001b[0;32m~/anaconda3/envs/dl/lib/python3.8/site-packages/tntorch/tools.py\u001b[0m in \u001b[0;36mleft_unfolding\u001b[0;34m(core, batch)\u001b[0m\n\u001b[1;32m    238\u001b[0m         \u001b[0;32mreturn\u001b[0m \u001b[0mcore\u001b[0m\u001b[0;34m.\u001b[0m\u001b[0mreshape\u001b[0m\u001b[0;34m(\u001b[0m\u001b[0;34m[\u001b[0m\u001b[0mcore\u001b[0m\u001b[0;34m.\u001b[0m\u001b[0mshape\u001b[0m\u001b[0;34m[\u001b[0m\u001b[0;36m0\u001b[0m\u001b[0;34m]\u001b[0m\u001b[0;34m,\u001b[0m \u001b[0;34m-\u001b[0m\u001b[0;36m1\u001b[0m\u001b[0;34m,\u001b[0m \u001b[0mcore\u001b[0m\u001b[0;34m.\u001b[0m\u001b[0mshape\u001b[0m\u001b[0;34m[\u001b[0m\u001b[0;34m-\u001b[0m\u001b[0;36m1\u001b[0m\u001b[0;34m]\u001b[0m\u001b[0;34m]\u001b[0m\u001b[0;34m)\u001b[0m\u001b[0;34m\u001b[0m\u001b[0;34m\u001b[0m\u001b[0m\n\u001b[1;32m    239\u001b[0m     \u001b[0;32melse\u001b[0m\u001b[0;34m:\u001b[0m\u001b[0;34m\u001b[0m\u001b[0;34m\u001b[0m\u001b[0m\n\u001b[0;32m--> 240\u001b[0;31m         \u001b[0;32mreturn\u001b[0m \u001b[0mcore\u001b[0m\u001b[0;34m.\u001b[0m\u001b[0mreshape\u001b[0m\u001b[0;34m(\u001b[0m\u001b[0;34m[\u001b[0m\u001b[0;34m-\u001b[0m\u001b[0;36m1\u001b[0m\u001b[0;34m,\u001b[0m \u001b[0mcore\u001b[0m\u001b[0;34m.\u001b[0m\u001b[0mshape\u001b[0m\u001b[0;34m[\u001b[0m\u001b[0;34m-\u001b[0m\u001b[0;36m1\u001b[0m\u001b[0;34m]\u001b[0m\u001b[0;34m]\u001b[0m\u001b[0;34m)\u001b[0m\u001b[0;34m\u001b[0m\u001b[0;34m\u001b[0m\u001b[0m\n\u001b[0m\u001b[1;32m    241\u001b[0m \u001b[0;34m\u001b[0m\u001b[0m\n\u001b[1;32m    242\u001b[0m \u001b[0;34m\u001b[0m\u001b[0m\n",
      "\u001b[0;31mKeyboardInterrupt\u001b[0m: "
     ]
    }
   ],
   "source": [
    "def trace(tensor):\n",
    "    if len(tensor.shape) == 2:\n",
    "        return sum([tensor[i,i] for i in range(tensor.shape[0])])\n",
    "    if len(tensor.shape) == 3:\n",
    "        return sum([tensor[:, i,i] for i in range(tensor.shape[1])])\n",
    "\n",
    "def cholesky(sigma_real, sigma_imag):\n",
    "    sigma_real, sigma_imag = sigma_real.dot(sigma_real, k=1)+sigma_imag.dot(sigma_imag, k=1), sigma_real.dot(sigma_imag, k=1)-sigma_imag.dot(sigma_real, k=1)\n",
    "    trace = sum([sigma_real[i,i] for i in range(rho.shape[0])])\n",
    "    sigma_real, sigma_imag = [x/trace for x in [sigma_real, sigma_imag]]\n",
    "    return sigma_real, sigma_imag\n",
    "    \n",
    "#initial_trace = sum((np.real(trace(test_X.dot(sigma)))-test_y)**2)\n",
    "\n",
    "def loss(sigma_real, sigma_imag):\n",
    "    sigma_real, sigma_imag = cholesky(sigma_real, sigma_imag)\n",
    "    res = 0\n",
    "    idx = np.random.choice(np.arange(train_X.shape[0]), batch_size)\n",
    "    for E_m,y_m in zip(train_X[idx], train_y[idx].astype('float64')):\n",
    "        E_real, E_imag = [tn.Tensor(x) for x in [np.real(E_m), np.imag(E_m)]]\n",
    "        res += ((E_real.dot(sigma_real)+E_imag.dot(sigma_imag)-y_m)**2)\n",
    "#     return res/(initial_trace*train_X.shape[0])\n",
    "    return res\n",
    "    \n",
    "\n",
    "def eval_loss(sigma_real, sigma_imag): # any score function can be used here\n",
    "    sigma_real_, sigma_imag_ = cholesky(sigma_real, sigma_imag)\n",
    "    sigma = sigma_real_.torch().detach().cpu().numpy() + 1j*sigma_imag_.torch().detach().cpu().numpy()\n",
    "    return -lib.fidelity(sigma, rho)\n",
    "\n",
    "#print('Trace before: %f'%initial_trace)\n",
    "\n",
    "lib.tn_optimize([sigma_real, sigma_imag], loss, eval_loss, tol=0, patience=300,print_freq=10,lr=lr)"
   ]
  },
  {
   "cell_type": "code",
   "execution_count": null,
   "metadata": {},
   "outputs": [],
   "source": []
  }
 ],
 "metadata": {
  "kernelspec": {
   "display_name": "Python 3",
   "language": "python",
   "name": "python3"
  },
  "language_info": {
   "codemirror_mode": {
    "name": "ipython",
    "version": 3
   },
   "file_extension": ".py",
   "mimetype": "text/x-python",
   "name": "python",
   "nbconvert_exporter": "python",
   "pygments_lexer": "ipython3",
   "version": "3.8.5"
  }
 },
 "nbformat": 4,
 "nbformat_minor": 4
}
