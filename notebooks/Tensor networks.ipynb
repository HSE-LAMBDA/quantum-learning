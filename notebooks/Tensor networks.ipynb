{
 "cells": [
  {
   "cell_type": "code",
   "execution_count": 1,
   "metadata": {},
   "outputs": [
    {
     "name": "stderr",
     "output_type": "stream",
     "text": [
      "/home/artem/anaconda3/envs/dl/lib/python3.6/site-packages/ipykernel_launcher.py:37: ComplexWarning: Casting complex values to real discards the imaginary part\n"
     ]
    },
    {
     "name": "stdout",
     "output_type": "stream",
     "text": [
      "Loss before: 0.271475\n",
      "iter: 0       | loss:   0.271475 | total time:    0.0164\n",
      "iter: 350     | loss:   0.014092 | total time:   11.7112 <- converged (tol=0.0001)\n",
      "Loss after: 0.014546\n"
     ]
    },
    {
     "name": "stderr",
     "output_type": "stream",
     "text": [
      "/home/artem/anaconda3/envs/dl/lib/python3.6/site-packages/ipykernel_launcher.py:43: ComplexWarning: Casting complex values to real discards the imaginary part\n"
     ]
    }
   ],
   "source": [
    "import sys\n",
    "import torch\n",
    "import tntorch as tn\n",
    "import numpy as np\n",
    "sys.path.append('..')\n",
    "import lib\n",
    "\n",
    "rho = np.array([[1., 0.], [0., 0.]]) # target state\n",
    "dim = rho.shape[0]\n",
    "\n",
    "projectors_cnt = 10\n",
    "measurements_cnt = 100\n",
    "\n",
    "train_size = projectors_cnt * measurements_cnt\n",
    "train_X, train_y = lib.generate_dataset(rho, projectors_cnt, measurements_cnt)\n",
    "train_y = train_y.astype('float64')\n",
    "\n",
    "sigma = lib.simulator.randomMixedState(rho.shape[0])\n",
    "tensor_rank = 2*dim\n",
    "sigma_real, sigma_imag = [tn.Tensor(x, ranks_tt=tensor_rank, requires_grad=True) for x in [np.real(sigma), np.imag(sigma)]]\n",
    "\n",
    "epoches = 10\n",
    "\n",
    "def trace(tensor):\n",
    "    if len(tensor.shape) == 2:\n",
    "        return sum([tensor[i,i] for i in range(tensor.shape[0])])\n",
    "    if len(tensor.shape) == 3:\n",
    "        return sum([tensor[:, i,i] for i in range(tensor.shape[1])])\n",
    "\n",
    "def loss(sigma_real, sigma_imag):\n",
    "    res = 0\n",
    "    for E_m,y_m in zip(train_X, train_y.astype('float64')):\n",
    "        E_real, E_imag = [tn.Tensor(x) for x in [np.real(E_m), np.imag(E_m)]]\n",
    "        res += ((trace(E_real*sigma_real-E_imag*sigma_imag)-y_m)**2)\n",
    "    return res\n",
    "    \n",
    "print('Loss before: %f' %sum((trace(train_X*sigma)-train_y)**2))\n",
    "\n",
    "tn.optimize([sigma_real, sigma_imag], loss)\n",
    "\n",
    "sigma = sigma_real.torch().detach().cpu().numpy() + 1j*sigma_imag.torch().detach().cpu().numpy()\n",
    "sigma /= trace(sigma)\n",
    "print('Loss after: %f' %sum((trace(train_X*sigma)-train_y)**2))"
   ]
  },
  {
   "cell_type": "code",
   "execution_count": null,
   "metadata": {},
   "outputs": [],
   "source": []
  }
 ],
 "metadata": {
  "kernelspec": {
   "display_name": "Python 3",
   "language": "python",
   "name": "python3"
  },
  "language_info": {
   "codemirror_mode": {
    "name": "ipython",
    "version": 3
   },
   "file_extension": ".py",
   "mimetype": "text/x-python",
   "name": "python",
   "nbconvert_exporter": "python",
   "pygments_lexer": "ipython3",
   "version": "3.6.10"
  }
 },
 "nbformat": 4,
 "nbformat_minor": 4
}
