{
 "cells": [
  {
   "cell_type": "code",
   "execution_count": null,
   "metadata": {
    "scrolled": false
   },
   "outputs": [],
   "source": [
    "import sys\n",
    "import torch\n",
    "import tntorch as tn\n",
    "import numpy as np\n",
    "sys.path.append('..')\n",
    "import lib\n",
    "\n",
    "n_qubits = 5\n",
    "rho = lib.randomMixedState(2 ** n_qubits)\n",
    "dim = rho.shape[0]\n",
    "\n",
    "projectors_cnt = 10000\n",
    "measurements_cnt = 1000\n",
    "tensor_rank = 2**n_qubits\n",
    "batch_size = 100\n",
    "lr = 1e-3\n",
    "\n",
    "train_size = projectors_cnt * measurements_cnt\n",
    "train_X, train_y = lib.generate_dataset(rho, projectors_cnt, measurements_cnt)\n",
    "test_X, test_y = lib.generate_dataset(rho, projectors_cnt, measurements_cnt)\n",
    "train_y, test_y = [x.astype('float64') for x in [train_y, test_y]]\n",
    "\n",
    "sigma = lib.simulator.randomMixedState(rho.shape[0])\n",
    "sigma_real, sigma_imag = [tn.Tensor(x, ranks_tt=tensor_rank, requires_grad=True) for x in [np.real(sigma), np.imag(sigma)]]\n",
    "\n",
    "epoches = 10\n",
    "\n",
    "def trace(tensor):\n",
    "    if len(tensor.shape) == 2:\n",
    "        return sum([tensor[i,i] for i in range(tensor.shape[0])])\n",
    "    if len(tensor.shape) == 3:\n",
    "        return sum([tensor[:, i,i] for i in range(tensor.shape[1])])\n",
    "\n",
    "def cholesky(sigma_real, sigma_imag):\n",
    "    sigma_real, sigma_imag = sigma_real.dot(sigma_real, k=1)+sigma_imag.dot(sigma_imag, k=1), sigma_real.dot(sigma_imag, k=1)-sigma_imag.dot(sigma_real, k=1)\n",
    "    trace = sum([sigma_real[i,i] for i in range(rho.shape[0])])\n",
    "    sigma_real, sigma_imag = [x/trace for x in [sigma_real, sigma_imag]]\n",
    "    return sigma_real, sigma_imag\n",
    "    \n",
    "initial_trace = sum((np.real(trace(test_X.dot(sigma)))-test_y)**2)\n",
    "\n",
    "def loss(sigma_real, sigma_imag):\n",
    "    sigma_real, sigma_imag = cholesky(sigma_real, sigma_imag)\n",
    "    res = 0\n",
    "    idx = np.random.choice(np.arange(train_X.shape[0]), batch_size)\n",
    "    for E_m,y_m in zip(train_X[idx], train_y[idx].astype('float64')):\n",
    "        E_real, E_imag = [tn.Tensor(x) for x in [np.real(E_m), np.imag(E_m)]]\n",
    "        res += ((E_real.dot(sigma_real)+E_imag.dot(sigma_imag)-y_m)**2)\n",
    "#     return res/(initial_trace*train_X.shape[0])\n",
    "    return res\n",
    "    \n",
    "\n",
    "def eval_loss(sigma_real, sigma_imag): # any score function can be used here\n",
    "    sigma_real_, sigma_imag_ = cholesky(sigma_real, sigma_imag)\n",
    "    sigma = sigma_real_.torch().detach().cpu().numpy() + 1j*sigma_imag_.torch().detach().cpu().numpy()\n",
    "    return -lib.fidelity(sigma, rho)\n",
    "\n",
    "print('Trace before: %f'%initial_trace)\n",
    "\n",
    "lib.tn_optimize([sigma_real, sigma_imag], loss, eval_loss, tol=0, patience=2000,print_freq=10,lr=lr)"
   ]
  },
  {
   "cell_type": "code",
   "execution_count": null,
   "metadata": {},
   "outputs": [],
   "source": []
  }
 ],
 "metadata": {
  "kernelspec": {
   "display_name": "Python 3",
   "language": "python",
   "name": "python3"
  },
  "language_info": {
   "codemirror_mode": {
    "name": "ipython",
    "version": 3
   },
   "file_extension": ".py",
   "mimetype": "text/x-python",
   "name": "python",
   "nbconvert_exporter": "python",
   "pygments_lexer": "ipython3",
   "version": "3.6.10"
  }
 },
 "nbformat": 4,
 "nbformat_minor": 4
}
