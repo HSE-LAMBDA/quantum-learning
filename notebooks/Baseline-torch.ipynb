{
 "cells": [
  {
   "cell_type": "markdown",
   "metadata": {},
   "source": [
    "# Задача\n",
    "\n",
    "В рамках данной задачи предстоит научиться получать наилучшее приближение $\\sigma\\in\\mathbb{C}^n$ истинного квантового состояния $\\rho\\in\\mathbb{C}^n$ по некоторой обучающей выборке $X_{train}=\\{E_m,y_m\\}_{m=0}^{N}$, где $E_m$ - некоторая матрица (называемая оператор, проектор), $y_m$ - некоторое наблюдение (проекция истинного состояния $\\rho$ на этот оператор). \n",
    "\n",
    "В качестве оптимизируемого функционала предлагается минимизировать следующую функцию:\n",
    "$$min_\\sigma[f(\\sigma)=\\Sigma_m(Tr(E_m\\sigma)-Tr(E_m\\rho))^2=\\Sigma_m(Tr(E_m\\sigma)-y_m)^2]$$\n",
    "$$\\sigma\\geq0,Tr(\\sigma)=1$$\n",
    "гдe $\\sigma\\geq0$ означает положительную полуопределённость обучаемой матрицы $\\sigma$ "
   ]
  },
  {
   "cell_type": "markdown",
   "metadata": {},
   "source": [
    "# Решение\n",
    "\n",
    "Поскольку матрица $\\sigma$ - положительно полуопределённая, сделаем разложение Холецкого: $\\sigma=M^*M$. \n",
    "\n",
    "Тогда \n",
    "$$Tr(\\sigma)=Tr(M^*M)=\\Sigma_{a_m\\in M} a_m^*a_m=\\Sigma_{a_m\\in M} |a_m|^2$$\n",
    "\n",
    "Поскольку для любой положительно полуопределённой матрицы существует разложение Холецкого, и, наоборот, для любой матрицы $M\\in\\mathbb{C}^n$ матрица $M^*M$ является положительно полуопределённой, мы можем переписать оптимизационную задачу в виде\n",
    "\n",
    "$$min_M[f(M)=\\Sigma_m(Tr(E_mM^*M)-y_m)^2]$$\n",
    "$$Tr(M^*M)=\\Sigma_{a_m\\in M}|a_m|^2=1$$\n",
    "\n",
    "Эту задачу можно было бы решать обычным методом множителей Лагранжа, но можно просто перенормировать $M$ на $\\sqrt{Tr(M^*M)}$. Тогда задача сведётся к задаче безусловной оптимизации\n",
    "\n",
    "$$min_M[f(M)=\\Sigma_m(Tr(E_m\\frac{M^*M}{Tr(M^*M)})-y_m)^2=\\Sigma_m(Tr(E_m\\frac{M^*M}{\\Sigma_{a_m\\in M}|a_m|^2})-y_m)^2]$$"
   ]
  },
  {
   "cell_type": "markdown",
   "metadata": {},
   "source": [
    "# Код"
   ]
  },
  {
   "cell_type": "markdown",
   "metadata": {},
   "source": [
    "## Генерация датасета"
   ]
  },
  {
   "cell_type": "code",
   "execution_count": 1,
   "metadata": {},
   "outputs": [],
   "source": [
    "import sys\n",
    "import torch\n",
    "import numpy as np\n",
    "sys.path.append('..')\n",
    "from lib import simulator\n",
    "from lib.pytorch_complex_tensor import ComplexTensor"
   ]
  },
  {
   "cell_type": "code",
   "execution_count": 2,
   "metadata": {},
   "outputs": [],
   "source": [
    "rho = np.array([[1., 0.], [0., 0.]]) # target state\n",
    "dim = rho.shape[0]\n",
    "projectors_cnt = 10\n",
    "measurements_cnt = 100\n",
    "train_size = projectors_cnt * measurements_cnt\n",
    "train_X, train_y = simulator.generate_dataset(rho, projectors_cnt, measurements_cnt)"
   ]
  },
  {
   "cell_type": "markdown",
   "metadata": {},
   "source": [
    "## Обучение модели"
   ]
  },
  {
   "cell_type": "code",
   "execution_count": 3,
   "metadata": {},
   "outputs": [],
   "source": [
    "M = ComplexTensor(simulator.randomMixedState(rho.shape[0]))\n",
    "M.requires_grad = True\n",
    "opt = torch.optim.SGD([M], lr=1e-1)\n",
    "epoches = 1000\n",
    "\n",
    "def trace(tensor):\n",
    "    return sum([tensor[i:i+1,i:i+1] for i in range(tensor.shape[0])])"
   ]
  },
  {
   "cell_type": "code",
   "execution_count": 4,
   "metadata": {
    "scrolled": true
   },
   "outputs": [
    {
     "name": "stdout",
     "output_type": "stream",
     "text": [
      "Epoch: 0, Loss: 0.5431708693504333\n",
      "Epoch: 1, Loss: 0.517189085483551\n",
      "Epoch: 2, Loss: 0.48283445835113525\n",
      "Epoch: 3, Loss: 0.4408557415008545\n",
      "Epoch: 4, Loss: 0.3942459523677826\n",
      "Epoch: 5, Loss: 0.3476411998271942\n",
      "Epoch: 6, Loss: 0.3054879903793335\n",
      "Epoch: 7, Loss: 0.2703815996646881\n",
      "Epoch: 8, Loss: 0.24276570975780487\n",
      "Epoch: 9, Loss: 0.22171346843242645\n",
      "Epoch: 10, Loss: 0.20585192739963531\n",
      "Epoch: 11, Loss: 0.19387571513652802\n",
      "Epoch: 12, Loss: 0.1847461313009262\n",
      "Epoch: 13, Loss: 0.17769379913806915\n",
      "Epoch: 14, Loss: 0.17216533422470093\n",
      "Epoch: 15, Loss: 0.1677687019109726\n",
      "Epoch: 16, Loss: 0.16422514617443085\n",
      "Epoch: 17, Loss: 0.16133145987987518\n",
      "Epoch: 18, Loss: 0.15894284844398499\n",
      "Epoch: 19, Loss: 0.15695065259933472\n",
      "Epoch: 20, Loss: 0.15527288615703583\n",
      "Epoch: 22, Loss: 0.1526326686143875\n",
      "Epoch: 23, Loss: 0.15158408880233765\n",
      "Epoch: 24, Loss: 0.15067677199840546\n",
      "Epoch: 25, Loss: 0.1498861163854599\n",
      "Epoch: 26, Loss: 0.1491931974887848\n",
      "Epoch: 27, Loss: 0.14858292043209076\n",
      "Epoch: 28, Loss: 0.1480446457862854\n",
      "Epoch: 29, Loss: 0.1475660502910614\n",
      "Epoch: 30, Loss: 0.14713932573795319\n",
      "Epoch: 31, Loss: 0.1467580497264862\n",
      "Epoch: 32, Loss: 0.1464148461818695\n",
      "Epoch: 33, Loss: 0.14610655605793\n",
      "Epoch: 34, Loss: 0.14582757651805878\n",
      "Epoch: 35, Loss: 0.14557437598705292\n",
      "Epoch: 36, Loss: 0.14534398913383484\n",
      "Epoch: 37, Loss: 0.14513465762138367\n",
      "Epoch: 38, Loss: 0.14494307339191437\n",
      "Epoch: 39, Loss: 0.14476652443408966\n",
      "Epoch: 40, Loss: 0.1446056365966797\n",
      "Epoch: 41, Loss: 0.14445671439170837\n",
      "Epoch: 42, Loss: 0.1443195939064026\n",
      "Epoch: 43, Loss: 0.14419294893741608\n",
      "Epoch: 44, Loss: 0.14407555758953094\n",
      "Epoch: 45, Loss: 0.1439664512872696\n",
      "Epoch: 46, Loss: 0.14386484026908875\n",
      "Epoch: 47, Loss: 0.14376984536647797\n",
      "Epoch: 48, Loss: 0.14368197321891785\n",
      "Epoch: 49, Loss: 0.14359939098358154\n",
      "Epoch: 50, Loss: 0.14352211356163025\n",
      "Epoch: 51, Loss: 0.14344966411590576\n",
      "Epoch: 52, Loss: 0.14338214695453644\n",
      "Epoch: 53, Loss: 0.14331784844398499\n",
      "Epoch: 54, Loss: 0.14325770735740662\n",
      "Epoch: 55, Loss: 0.14320090413093567\n",
      "Epoch: 56, Loss: 0.14314709603786469\n",
      "Epoch: 57, Loss: 0.1430967003107071\n",
      "Epoch: 58, Loss: 0.1430489420890808\n",
      "Epoch: 59, Loss: 0.14300376176834106\n",
      "Epoch: 60, Loss: 0.1429610550403595\n",
      "Epoch: 61, Loss: 0.14291949570178986\n",
      "Epoch: 62, Loss: 0.14288054406642914\n",
      "Epoch: 63, Loss: 0.14284442365169525\n",
      "Epoch: 64, Loss: 0.14280876517295837\n",
      "Epoch: 65, Loss: 0.14277571439743042\n",
      "Epoch: 66, Loss: 0.14274343848228455\n",
      "Epoch: 67, Loss: 0.14271295070648193\n",
      "Epoch: 68, Loss: 0.1426839977502823\n",
      "Epoch: 69, Loss: 0.14265652000904083\n",
      "Epoch: 70, Loss: 0.1426299810409546\n",
      "Epoch: 71, Loss: 0.14260458946228027\n",
      "Epoch: 72, Loss: 0.14258012175559998\n",
      "Epoch: 73, Loss: 0.14255650341510773\n",
      "Epoch: 74, Loss: 0.142534077167511\n",
      "Epoch: 75, Loss: 0.14251218736171722\n",
      "Epoch: 76, Loss: 0.14249199628829956\n",
      "Epoch: 77, Loss: 0.1424722522497177\n",
      "Epoch: 78, Loss: 0.14245355129241943\n",
      "Epoch: 79, Loss: 0.14243453741073608\n",
      "Epoch: 80, Loss: 0.14241717755794525\n",
      "Epoch: 81, Loss: 0.14239996671676636\n",
      "Epoch: 82, Loss: 0.14238400757312775\n",
      "Epoch: 83, Loss: 0.14236748218536377\n",
      "Epoch: 84, Loss: 0.14235249161720276\n",
      "Epoch: 85, Loss: 0.14233806729316711\n",
      "Epoch: 86, Loss: 0.14232386648654938\n",
      "Epoch: 87, Loss: 0.14231005311012268\n",
      "Epoch: 88, Loss: 0.14229661226272583\n",
      "Epoch: 89, Loss: 0.1422835737466812\n",
      "Epoch: 90, Loss: 0.1422715187072754\n",
      "Epoch: 91, Loss: 0.1422595977783203\n",
      "Epoch: 92, Loss: 0.14224787056446075\n",
      "Epoch: 93, Loss: 0.1422366350889206\n",
      "Epoch: 94, Loss: 0.1422257423400879\n",
      "Epoch: 95, Loss: 0.1422155350446701\n"
     ]
    },
    {
     "ename": "KeyboardInterrupt",
     "evalue": "",
     "output_type": "error",
     "traceback": [
      "\u001b[0;31m---------------------------------------------------------------------------\u001b[0m",
      "\u001b[0;31mKeyboardInterrupt\u001b[0m                         Traceback (most recent call last)",
      "\u001b[0;32m<ipython-input-4-14d847bd62df>\u001b[0m in \u001b[0;36m<module>\u001b[0;34m\u001b[0m\n\u001b[1;32m      6\u001b[0m     \u001b[0;32mfor\u001b[0m \u001b[0mE_m\u001b[0m\u001b[0;34m,\u001b[0m\u001b[0my_m\u001b[0m \u001b[0;32min\u001b[0m \u001b[0mzip\u001b[0m\u001b[0;34m(\u001b[0m\u001b[0mtrain_X\u001b[0m\u001b[0;34m,\u001b[0m \u001b[0mtrain_y\u001b[0m\u001b[0;34m.\u001b[0m\u001b[0mastype\u001b[0m\u001b[0;34m(\u001b[0m\u001b[0;34m'float64'\u001b[0m\u001b[0;34m)\u001b[0m\u001b[0;34m)\u001b[0m\u001b[0;34m:\u001b[0m\u001b[0;34m\u001b[0m\u001b[0;34m\u001b[0m\u001b[0m\n\u001b[1;32m      7\u001b[0m         \u001b[0mE_m\u001b[0m \u001b[0;34m=\u001b[0m \u001b[0mComplexTensor\u001b[0m\u001b[0;34m(\u001b[0m\u001b[0mE_m\u001b[0m\u001b[0;34m)\u001b[0m\u001b[0;34m\u001b[0m\u001b[0;34m\u001b[0m\u001b[0m\n\u001b[0;32m----> 8\u001b[0;31m         \u001b[0mloss\u001b[0m \u001b[0;34m+=\u001b[0m \u001b[0;34m(\u001b[0m\u001b[0;34m(\u001b[0m\u001b[0mtrace\u001b[0m\u001b[0;34m(\u001b[0m\u001b[0mE_m\u001b[0m\u001b[0;34m.\u001b[0m\u001b[0mmm\u001b[0m\u001b[0;34m(\u001b[0m\u001b[0msigma\u001b[0m\u001b[0;34m)\u001b[0m\u001b[0;34m/\u001b[0m\u001b[0mnorm\u001b[0m\u001b[0;34m)\u001b[0m\u001b[0;34m-\u001b[0m\u001b[0my_m\u001b[0m\u001b[0;34m)\u001b[0m\u001b[0;34m**\u001b[0m\u001b[0;36m2\u001b[0m\u001b[0;34m)\u001b[0m\u001b[0;34m.\u001b[0m\u001b[0msum\u001b[0m\u001b[0;34m(\u001b[0m\u001b[0;34m)\u001b[0m\u001b[0;34m\u001b[0m\u001b[0;34m\u001b[0m\u001b[0m\n\u001b[0m\u001b[1;32m      9\u001b[0m     \u001b[0mloss\u001b[0m \u001b[0;34m/=\u001b[0m \u001b[0mtrain_size\u001b[0m\u001b[0;34m\u001b[0m\u001b[0;34m\u001b[0m\u001b[0m\n\u001b[1;32m     10\u001b[0m     \u001b[0mloss\u001b[0m\u001b[0;34m.\u001b[0m\u001b[0mbackward\u001b[0m\u001b[0;34m(\u001b[0m\u001b[0;34m)\u001b[0m\u001b[0;34m\u001b[0m\u001b[0;34m\u001b[0m\u001b[0m\n",
      "\u001b[0;32m<ipython-input-3-c1ab61f18cad>\u001b[0m in \u001b[0;36mtrace\u001b[0;34m(tensor)\u001b[0m\n\u001b[1;32m      5\u001b[0m \u001b[0;34m\u001b[0m\u001b[0m\n\u001b[1;32m      6\u001b[0m \u001b[0;32mdef\u001b[0m \u001b[0mtrace\u001b[0m\u001b[0;34m(\u001b[0m\u001b[0mtensor\u001b[0m\u001b[0;34m)\u001b[0m\u001b[0;34m:\u001b[0m\u001b[0;34m\u001b[0m\u001b[0;34m\u001b[0m\u001b[0m\n\u001b[0;32m----> 7\u001b[0;31m     \u001b[0;32mreturn\u001b[0m \u001b[0msum\u001b[0m\u001b[0;34m(\u001b[0m\u001b[0;34m[\u001b[0m\u001b[0mtensor\u001b[0m\u001b[0;34m[\u001b[0m\u001b[0mi\u001b[0m\u001b[0;34m:\u001b[0m\u001b[0mi\u001b[0m\u001b[0;34m+\u001b[0m\u001b[0;36m1\u001b[0m\u001b[0;34m,\u001b[0m\u001b[0mi\u001b[0m\u001b[0;34m:\u001b[0m\u001b[0mi\u001b[0m\u001b[0;34m+\u001b[0m\u001b[0;36m1\u001b[0m\u001b[0;34m]\u001b[0m \u001b[0;32mfor\u001b[0m \u001b[0mi\u001b[0m \u001b[0;32min\u001b[0m \u001b[0mrange\u001b[0m\u001b[0;34m(\u001b[0m\u001b[0mtensor\u001b[0m\u001b[0;34m.\u001b[0m\u001b[0mshape\u001b[0m\u001b[0;34m[\u001b[0m\u001b[0;36m0\u001b[0m\u001b[0;34m]\u001b[0m\u001b[0;34m)\u001b[0m\u001b[0;34m]\u001b[0m\u001b[0;34m)\u001b[0m\u001b[0;34m\u001b[0m\u001b[0;34m\u001b[0m\u001b[0m\n\u001b[0m",
      "\u001b[0;32m<ipython-input-3-c1ab61f18cad>\u001b[0m in \u001b[0;36m<listcomp>\u001b[0;34m(.0)\u001b[0m\n\u001b[1;32m      5\u001b[0m \u001b[0;34m\u001b[0m\u001b[0m\n\u001b[1;32m      6\u001b[0m \u001b[0;32mdef\u001b[0m \u001b[0mtrace\u001b[0m\u001b[0;34m(\u001b[0m\u001b[0mtensor\u001b[0m\u001b[0;34m)\u001b[0m\u001b[0;34m:\u001b[0m\u001b[0;34m\u001b[0m\u001b[0;34m\u001b[0m\u001b[0m\n\u001b[0;32m----> 7\u001b[0;31m     \u001b[0;32mreturn\u001b[0m \u001b[0msum\u001b[0m\u001b[0;34m(\u001b[0m\u001b[0;34m[\u001b[0m\u001b[0mtensor\u001b[0m\u001b[0;34m[\u001b[0m\u001b[0mi\u001b[0m\u001b[0;34m:\u001b[0m\u001b[0mi\u001b[0m\u001b[0;34m+\u001b[0m\u001b[0;36m1\u001b[0m\u001b[0;34m,\u001b[0m\u001b[0mi\u001b[0m\u001b[0;34m:\u001b[0m\u001b[0mi\u001b[0m\u001b[0;34m+\u001b[0m\u001b[0;36m1\u001b[0m\u001b[0;34m]\u001b[0m \u001b[0;32mfor\u001b[0m \u001b[0mi\u001b[0m \u001b[0;32min\u001b[0m \u001b[0mrange\u001b[0m\u001b[0;34m(\u001b[0m\u001b[0mtensor\u001b[0m\u001b[0;34m.\u001b[0m\u001b[0mshape\u001b[0m\u001b[0;34m[\u001b[0m\u001b[0;36m0\u001b[0m\u001b[0;34m]\u001b[0m\u001b[0;34m)\u001b[0m\u001b[0;34m]\u001b[0m\u001b[0;34m)\u001b[0m\u001b[0;34m\u001b[0m\u001b[0;34m\u001b[0m\u001b[0m\n\u001b[0m",
      "\u001b[0;32m/mnt/spopov/quant/quantum-learning/lib/pytorch_complex_tensor/complex_tensor.py\u001b[0m in \u001b[0;36m__getitem__\u001b[0;34m(self, item)\u001b[0m\n\u001b[1;32m    367\u001b[0m         \u001b[0;31m# this is a regular index op, select the requested pairs then form a new ComplexTensor\u001b[0m\u001b[0;34m\u001b[0m\u001b[0;34m\u001b[0m\u001b[0;34m\u001b[0m\u001b[0m\n\u001b[1;32m    368\u001b[0m         \u001b[0mr\u001b[0m \u001b[0;34m=\u001b[0m \u001b[0mself\u001b[0m\u001b[0;34m.\u001b[0m\u001b[0mreal\u001b[0m\u001b[0;34m[\u001b[0m\u001b[0mitem\u001b[0m\u001b[0;34m]\u001b[0m\u001b[0;34m\u001b[0m\u001b[0;34m\u001b[0m\u001b[0m\n\u001b[0;32m--> 369\u001b[0;31m         \u001b[0mc\u001b[0m \u001b[0;34m=\u001b[0m \u001b[0mself\u001b[0m\u001b[0;34m.\u001b[0m\u001b[0mimag\u001b[0m\u001b[0;34m[\u001b[0m\u001b[0mitem\u001b[0m\u001b[0;34m]\u001b[0m\u001b[0;34m\u001b[0m\u001b[0;34m\u001b[0m\u001b[0m\n\u001b[0m\u001b[1;32m    370\u001b[0m \u001b[0;34m\u001b[0m\u001b[0m\n\u001b[1;32m    371\u001b[0m         \u001b[0;32mreturn\u001b[0m \u001b[0mself\u001b[0m\u001b[0;34m.\u001b[0m\u001b[0m__graph_copy__\u001b[0m\u001b[0;34m(\u001b[0m\u001b[0mr\u001b[0m\u001b[0;34m,\u001b[0m \u001b[0mc\u001b[0m\u001b[0;34m)\u001b[0m\u001b[0;34m\u001b[0m\u001b[0;34m\u001b[0m\u001b[0m\n",
      "\u001b[0;32m/mnt/spopov/quant/quantum-learning/lib/pytorch_complex_tensor/complex_tensor.py\u001b[0m in \u001b[0;36mimag\u001b[0;34m(self)\u001b[0m\n\u001b[1;32m    110\u001b[0m         \u001b[0mn\u001b[0m \u001b[0;34m=\u001b[0m \u001b[0msize\u001b[0m\u001b[0;34m[\u001b[0m\u001b[0;34m-\u001b[0m\u001b[0;36m2\u001b[0m\u001b[0;34m]\u001b[0m\u001b[0;34m\u001b[0m\u001b[0;34m\u001b[0m\u001b[0m\n\u001b[1;32m    111\u001b[0m         \u001b[0mn\u001b[0m \u001b[0;34m=\u001b[0m \u001b[0mn\u001b[0m \u001b[0;34m*\u001b[0m \u001b[0;36m2\u001b[0m\u001b[0;34m\u001b[0m\u001b[0;34m\u001b[0m\u001b[0m\n\u001b[0;32m--> 112\u001b[0;31m         \u001b[0mresult\u001b[0m \u001b[0;34m=\u001b[0m \u001b[0mself\u001b[0m\u001b[0;34m[\u001b[0m\u001b[0;34m...\u001b[0m\u001b[0;34m,\u001b[0m \u001b[0mn\u001b[0m \u001b[0;34m//\u001b[0m \u001b[0;36m2\u001b[0m\u001b[0;34m:\u001b[0m\u001b[0;34m,\u001b[0m \u001b[0;34m:\u001b[0m\u001b[0;34m]\u001b[0m\u001b[0;34m\u001b[0m\u001b[0;34m\u001b[0m\u001b[0m\n\u001b[0m\u001b[1;32m    113\u001b[0m         \u001b[0;32mreturn\u001b[0m \u001b[0mresult\u001b[0m\u001b[0;34m\u001b[0m\u001b[0;34m\u001b[0m\u001b[0m\n\u001b[1;32m    114\u001b[0m \u001b[0;34m\u001b[0m\u001b[0m\n",
      "\u001b[0;32m/mnt/spopov/quant/quantum-learning/lib/pytorch_complex_tensor/complex_tensor.py\u001b[0m in \u001b[0;36m__getitem__\u001b[0;34m(self, item)\u001b[0m\n\u001b[1;32m    359\u001b[0m         \u001b[0;31m# when real or imag is the caller return regular tensor\u001b[0m\u001b[0;34m\u001b[0m\u001b[0;34m\u001b[0m\u001b[0;34m\u001b[0m\u001b[0m\n\u001b[1;32m    360\u001b[0m         \u001b[0mcurframe\u001b[0m \u001b[0;34m=\u001b[0m \u001b[0minspect\u001b[0m\u001b[0;34m.\u001b[0m\u001b[0mcurrentframe\u001b[0m\u001b[0;34m(\u001b[0m\u001b[0;34m)\u001b[0m\u001b[0;34m\u001b[0m\u001b[0;34m\u001b[0m\u001b[0m\n\u001b[0;32m--> 361\u001b[0;31m         \u001b[0mcalframe\u001b[0m \u001b[0;34m=\u001b[0m \u001b[0minspect\u001b[0m\u001b[0;34m.\u001b[0m\u001b[0mgetouterframes\u001b[0m\u001b[0;34m(\u001b[0m\u001b[0mcurframe\u001b[0m\u001b[0;34m,\u001b[0m \u001b[0;36m2\u001b[0m\u001b[0;34m)\u001b[0m\u001b[0;34m\u001b[0m\u001b[0;34m\u001b[0m\u001b[0m\n\u001b[0m\u001b[1;32m    362\u001b[0m         \u001b[0mcaller\u001b[0m \u001b[0;34m=\u001b[0m \u001b[0mcalframe\u001b[0m\u001b[0;34m[\u001b[0m\u001b[0;36m1\u001b[0m\u001b[0;34m]\u001b[0m\u001b[0;34m[\u001b[0m\u001b[0;36m3\u001b[0m\u001b[0;34m]\u001b[0m\u001b[0;34m\u001b[0m\u001b[0;34m\u001b[0m\u001b[0m\n\u001b[1;32m    363\u001b[0m \u001b[0;34m\u001b[0m\u001b[0m\n",
      "\u001b[0;32m/mnt/spopov/miniconda3/envs/dl/lib/python3.7/inspect.py\u001b[0m in \u001b[0;36mgetouterframes\u001b[0;34m(frame, context)\u001b[0m\n\u001b[1;32m   1488\u001b[0m     \u001b[0mframelist\u001b[0m \u001b[0;34m=\u001b[0m \u001b[0;34m[\u001b[0m\u001b[0;34m]\u001b[0m\u001b[0;34m\u001b[0m\u001b[0;34m\u001b[0m\u001b[0m\n\u001b[1;32m   1489\u001b[0m     \u001b[0;32mwhile\u001b[0m \u001b[0mframe\u001b[0m\u001b[0;34m:\u001b[0m\u001b[0;34m\u001b[0m\u001b[0;34m\u001b[0m\u001b[0m\n\u001b[0;32m-> 1490\u001b[0;31m         \u001b[0mframeinfo\u001b[0m \u001b[0;34m=\u001b[0m \u001b[0;34m(\u001b[0m\u001b[0mframe\u001b[0m\u001b[0;34m,\u001b[0m\u001b[0;34m)\u001b[0m \u001b[0;34m+\u001b[0m \u001b[0mgetframeinfo\u001b[0m\u001b[0;34m(\u001b[0m\u001b[0mframe\u001b[0m\u001b[0;34m,\u001b[0m \u001b[0mcontext\u001b[0m\u001b[0;34m)\u001b[0m\u001b[0;34m\u001b[0m\u001b[0;34m\u001b[0m\u001b[0m\n\u001b[0m\u001b[1;32m   1491\u001b[0m         \u001b[0mframelist\u001b[0m\u001b[0;34m.\u001b[0m\u001b[0mappend\u001b[0m\u001b[0;34m(\u001b[0m\u001b[0mFrameInfo\u001b[0m\u001b[0;34m(\u001b[0m\u001b[0;34m*\u001b[0m\u001b[0mframeinfo\u001b[0m\u001b[0;34m)\u001b[0m\u001b[0;34m)\u001b[0m\u001b[0;34m\u001b[0m\u001b[0;34m\u001b[0m\u001b[0m\n\u001b[1;32m   1492\u001b[0m         \u001b[0mframe\u001b[0m \u001b[0;34m=\u001b[0m \u001b[0mframe\u001b[0m\u001b[0;34m.\u001b[0m\u001b[0mf_back\u001b[0m\u001b[0;34m\u001b[0m\u001b[0;34m\u001b[0m\u001b[0m\n",
      "\u001b[0;32m/mnt/spopov/miniconda3/envs/dl/lib/python3.7/inspect.py\u001b[0m in \u001b[0;36mgetframeinfo\u001b[0;34m(frame, context)\u001b[0m\n\u001b[1;32m   1458\u001b[0m         \u001b[0;32mraise\u001b[0m \u001b[0mTypeError\u001b[0m\u001b[0;34m(\u001b[0m\u001b[0;34m'{!r} is not a frame or traceback object'\u001b[0m\u001b[0;34m.\u001b[0m\u001b[0mformat\u001b[0m\u001b[0;34m(\u001b[0m\u001b[0mframe\u001b[0m\u001b[0;34m)\u001b[0m\u001b[0;34m)\u001b[0m\u001b[0;34m\u001b[0m\u001b[0;34m\u001b[0m\u001b[0m\n\u001b[1;32m   1459\u001b[0m \u001b[0;34m\u001b[0m\u001b[0m\n\u001b[0;32m-> 1460\u001b[0;31m     \u001b[0mfilename\u001b[0m \u001b[0;34m=\u001b[0m \u001b[0mgetsourcefile\u001b[0m\u001b[0;34m(\u001b[0m\u001b[0mframe\u001b[0m\u001b[0;34m)\u001b[0m \u001b[0;32mor\u001b[0m \u001b[0mgetfile\u001b[0m\u001b[0;34m(\u001b[0m\u001b[0mframe\u001b[0m\u001b[0;34m)\u001b[0m\u001b[0;34m\u001b[0m\u001b[0;34m\u001b[0m\u001b[0m\n\u001b[0m\u001b[1;32m   1461\u001b[0m     \u001b[0;32mif\u001b[0m \u001b[0mcontext\u001b[0m \u001b[0;34m>\u001b[0m \u001b[0;36m0\u001b[0m\u001b[0;34m:\u001b[0m\u001b[0;34m\u001b[0m\u001b[0;34m\u001b[0m\u001b[0m\n\u001b[1;32m   1462\u001b[0m         \u001b[0mstart\u001b[0m \u001b[0;34m=\u001b[0m \u001b[0mlineno\u001b[0m \u001b[0;34m-\u001b[0m \u001b[0;36m1\u001b[0m \u001b[0;34m-\u001b[0m \u001b[0mcontext\u001b[0m\u001b[0;34m//\u001b[0m\u001b[0;36m2\u001b[0m\u001b[0;34m\u001b[0m\u001b[0;34m\u001b[0m\u001b[0m\n",
      "\u001b[0;32m/mnt/spopov/miniconda3/envs/dl/lib/python3.7/inspect.py\u001b[0m in \u001b[0;36mgetsourcefile\u001b[0;34m(object)\u001b[0m\n\u001b[1;32m    691\u001b[0m                  importlib.machinery.EXTENSION_SUFFIXES):\n\u001b[1;32m    692\u001b[0m         \u001b[0;32mreturn\u001b[0m \u001b[0;32mNone\u001b[0m\u001b[0;34m\u001b[0m\u001b[0;34m\u001b[0m\u001b[0m\n\u001b[0;32m--> 693\u001b[0;31m     \u001b[0;32mif\u001b[0m \u001b[0mos\u001b[0m\u001b[0;34m.\u001b[0m\u001b[0mpath\u001b[0m\u001b[0;34m.\u001b[0m\u001b[0mexists\u001b[0m\u001b[0;34m(\u001b[0m\u001b[0mfilename\u001b[0m\u001b[0;34m)\u001b[0m\u001b[0;34m:\u001b[0m\u001b[0;34m\u001b[0m\u001b[0;34m\u001b[0m\u001b[0m\n\u001b[0m\u001b[1;32m    694\u001b[0m         \u001b[0;32mreturn\u001b[0m \u001b[0mfilename\u001b[0m\u001b[0;34m\u001b[0m\u001b[0;34m\u001b[0m\u001b[0m\n\u001b[1;32m    695\u001b[0m     \u001b[0;31m# only return a non-existent filename if the module has a PEP 302 loader\u001b[0m\u001b[0;34m\u001b[0m\u001b[0;34m\u001b[0m\u001b[0;34m\u001b[0m\u001b[0m\n",
      "\u001b[0;32m/mnt/spopov/miniconda3/envs/dl/lib/python3.7/genericpath.py\u001b[0m in \u001b[0;36mexists\u001b[0;34m(path)\u001b[0m\n\u001b[1;32m     17\u001b[0m     \u001b[0;34m\"\"\"Test whether a path exists.  Returns False for broken symbolic links\"\"\"\u001b[0m\u001b[0;34m\u001b[0m\u001b[0;34m\u001b[0m\u001b[0m\n\u001b[1;32m     18\u001b[0m     \u001b[0;32mtry\u001b[0m\u001b[0;34m:\u001b[0m\u001b[0;34m\u001b[0m\u001b[0;34m\u001b[0m\u001b[0m\n\u001b[0;32m---> 19\u001b[0;31m         \u001b[0mos\u001b[0m\u001b[0;34m.\u001b[0m\u001b[0mstat\u001b[0m\u001b[0;34m(\u001b[0m\u001b[0mpath\u001b[0m\u001b[0;34m)\u001b[0m\u001b[0;34m\u001b[0m\u001b[0;34m\u001b[0m\u001b[0m\n\u001b[0m\u001b[1;32m     20\u001b[0m     \u001b[0;32mexcept\u001b[0m \u001b[0mOSError\u001b[0m\u001b[0;34m:\u001b[0m\u001b[0;34m\u001b[0m\u001b[0;34m\u001b[0m\u001b[0m\n\u001b[1;32m     21\u001b[0m         \u001b[0;32mreturn\u001b[0m \u001b[0;32mFalse\u001b[0m\u001b[0;34m\u001b[0m\u001b[0;34m\u001b[0m\u001b[0m\n",
      "\u001b[0;31mKeyboardInterrupt\u001b[0m: "
     ]
    }
   ],
   "source": [
    "for epoch in range(epoches):\n",
    "    sigma = M.t(conjugate=True).mm(M)\n",
    "    norm = trace(sigma).real.sum()\n",
    "\n",
    "    loss = 0\n",
    "    for E_m,y_m in zip(train_X, train_y.astype('float64')):\n",
    "        E_m = ComplexTensor(E_m)\n",
    "        loss += ((trace(E_m.mm(sigma)/norm)-y_m)**2).sum()\n",
    "    loss /= train_size\n",
    "    loss.backward()\n",
    "    opt.step()\n",
    "    opt.zero_grad()\n",
    "    print(f'Epoch: {epoch}, Loss: {loss.detach().cpu().numpy()}')"
   ]
  },
  {
   "cell_type": "code",
   "execution_count": 5,
   "metadata": {},
   "outputs": [
    {
     "data": {
      "text/plain": [
       "array([[0.98129565+0.j        , 0.00325902-0.00831092j],\n",
       "       [0.00325902+0.00831092j, 0.01870438+0.j        ]], dtype=complex64)"
      ]
     },
     "execution_count": 5,
     "metadata": {},
     "output_type": "execute_result"
    }
   ],
   "source": [
    "sigma = sigma/norm\n",
    "sigma = sigma.detach().numpy()[:dim] + 1j*sigma.detach().numpy()[dim:]\n",
    "sigma"
   ]
  },
  {
   "cell_type": "code",
   "execution_count": 6,
   "metadata": {},
   "outputs": [
    {
     "data": {
      "text/plain": [
       "True"
      ]
     },
     "execution_count": 6,
     "metadata": {},
     "output_type": "execute_result"
    }
   ],
   "source": [
    "simulator.isDensityMatrix(sigma)"
   ]
  },
  {
   "cell_type": "code",
   "execution_count": null,
   "metadata": {},
   "outputs": [],
   "source": []
  },
  {
   "cell_type": "code",
   "execution_count": null,
   "metadata": {},
   "outputs": [],
   "source": []
  }
 ],
 "metadata": {
  "kernelspec": {
   "display_name": "Python 3",
   "language": "python",
   "name": "python3"
  }
 },
 "nbformat": 4,
 "nbformat_minor": 2
}
