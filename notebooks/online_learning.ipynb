{
 "cells": [
  {
   "cell_type": "code",
   "execution_count": 1,
   "metadata": {},
   "outputs": [
    {
     "name": "stdout",
     "output_type": "stream",
     "text": [
      "env: CUDA_VISIBLE_DEVICES=\"\"\n"
     ]
    }
   ],
   "source": [
    "%env CUDA_VISIBLE_DEVICES=\"\"\n",
    "import sys\n",
    "import numpy as np\n",
    "import tensorflow as tf\n",
    "# gpus = tf.config.experimental.list_physical_devices('GPU')\n",
    "# tf.config.experimental.set_virtual_device_configuration(gpus[1], [tf.config.experimental.VirtualDeviceConfiguration(memory_limit=1024*7)])\n",
    "import matplotlib.pyplot as plt\n",
    "from IPython.display import clear_output\n",
    "%matplotlib inline\n",
    "sys.path.append('..')\n",
    "import lib"
   ]
  },
  {
   "cell_type": "code",
   "execution_count": 2,
   "metadata": {},
   "outputs": [
    {
     "name": "stdout",
     "output_type": "stream",
     "text": [
      "eta:\t\t 0.0007210134433004414\n",
      "regret_bound:\t 2884.053773201766\n",
      "eps:\t 0.09\n"
     ]
    }
   ],
   "source": [
    "n_qubits = 3\n",
    "dim = 2 ** n_qubits\n",
    "rho = lib.randomPureState(dim)\n",
    "\n",
    "\n",
    "measurements_cnt = 10_000\n",
    "\n",
    "eps = 9.0/np.sqrt(measurements_cnt) # 9 sigma\n",
    "\n",
    "sigma = tf.Variable(tf.eye(dim, dtype=tf.complex64) * (2 ** -n_qubits))\n",
    "\n",
    "T = int(1e6)\n",
    "L = 1\n",
    "loss_object = tf.keras.losses.MeanAbsoluteError()\n",
    "\n",
    "eta = np.sqrt(np.log(2) * n_qubits / (4*T))\n",
    "# eta = eta*100\n",
    "\n",
    "regret_bound = 2 * L * np.sqrt(np.log(2) * T * n_qubits)\n",
    "\n",
    "print('eta:\\t\\t', eta)\n",
    "print('regret_bound:\\t', regret_bound)\n",
    "print('eps:\\t', eps)"
   ]
  },
  {
   "cell_type": "code",
   "execution_count": 3,
   "metadata": {
    "scrolled": false
   },
   "outputs": [
    {
     "name": "stderr",
     "output_type": "stream",
     "text": [
      "100%|██████████| 1000/1000 [58:37<00:00,  3.52s/it]\n"
     ]
    }
   ],
   "source": [
    "loss_history = []\n",
    "regret_history = []\n",
    "metrics_history = []\n",
    "fidelity_history = []\n",
    "grad_history = []\n",
    "cum_grad_history = []\n",
    "\n",
    "cum_grad = tf.Variable(tf.zeros([dim, dim], dtype=tf.complex64))\n",
    "\n",
    "t = -1\n",
    "batch_size = 1000\n",
    "epochs = T // batch_size\n",
    "from tqdm import trange\n",
    "for epoch in trange(epochs):\n",
    "    train_X, train_y = lib.generate_dataset(rho, batch_size, measurements_cnt)\n",
    "    train_y = train_y.astype('float64')\n",
    "    x_var = tf.Variable(train_X, dtype=tf.complex64)\n",
    "    y_var = tf.Variable(train_y, dtype=tf.complex64)\n",
    "    \n",
    "    for batch_i in range(batch_size):\n",
    "        t += 1\n",
    "\n",
    "\n",
    "        with tf.GradientTape() as tape:\n",
    "            trace = tf.linalg.trace(tf.matmul(x_var[batch_i], sigma))\n",
    "            loss = tf.abs(trace - y_var[batch_i])\n",
    "\n",
    "        loss_history.append(loss)\n",
    "        # loss for real state\n",
    "        trace_true = tf.linalg.trace(tf.matmul(x_var[batch_i], rho.astype('complex64')))\n",
    "        loss_true = tf.abs(trace_true - y_var[batch_i])\n",
    "        \n",
    "        regret_history.append(loss - loss_true)\n",
    "        \n",
    "#         if loss < 2.*eps/3: continue\n",
    "\n",
    "        grad = tape.gradient(loss, sigma)\n",
    "        grad_history.append(grad)\n",
    "        \n",
    "        cum_grad = cum_grad + grad\n",
    "        cum_grad_history.append(cum_grad)\n",
    "\n",
    "        sigma = tf.exp(-cum_grad * eta / L)\n",
    "        sigma = tf.Variable(sigma / tf.linalg.trace(sigma))"
   ]
  },
  {
   "cell_type": "code",
   "execution_count": 4,
   "metadata": {},
   "outputs": [
    {
     "name": "stderr",
     "output_type": "stream",
     "text": [
      "/datadrive/aryzhikov/envs/tf/lib/python3.6/site-packages/IPython/core/pylabtools.py:132: UserWarning: Creating legend with loc=\"best\" can be slow with large amounts of data.\n",
      "  fig.canvas.print_figure(bytes_io, **kw)\n"
     ]
    },
    {
     "data": {
      "image/png": "[encoded data removed]",
      "text/plain": [
       "<Figure size 720x360 with 2 Axes>"
      ]
     },
     "metadata": {
      "needs_background": "light"
     },
     "output_type": "display_data"
    }
   ],
   "source": [
    "plt.figure(figsize=[10, 5])\n",
    "plt.subplot(1, 2, 1)\n",
    "plt.plot(loss_history, label='loss')\n",
    "plt.xlabel('T')\n",
    "plt.ylabel('Loss')\n",
    "plt.legend()\n",
    "plt.grid()\n",
    "plt.subplot(1, 2, 2)\n",
    "log_step = np.log(1+np.arange(len(regret_history)))\n",
    "log_regret = np.log(np.cumsum(regret_history))\n",
    "plt.plot(log_step, log_regret, label='regret')\n",
    "plt.plot(log_step, [np.log(regret_bound)]*len(log_step), label='regret bound')\n",
    "plt.ylabel('log regret')\n",
    "plt.xlabel('log T')\n",
    "plt.legend()\n",
    "plt.grid()\n",
    "plt.show()"
   ]
  },
  {
   "cell_type": "code",
   "execution_count": null,
   "metadata": {},
   "outputs": [],
   "source": []
  }
 ],
 "metadata": {
  "kernelspec": {
   "display_name": "Python 3",
   "language": "python",
   "name": "python3"
  },
  "language_info": {
   "codemirror_mode": {
    "name": "ipython",
    "version": 3
   },
   "file_extension": ".py",
   "mimetype": "text/x-python",
   "name": "python",
   "nbconvert_exporter": "python",
   "pygments_lexer": "ipython3",
   "version": "3.6.10"
  }
 },
 "nbformat": 4,
 "nbformat_minor": 2
}
