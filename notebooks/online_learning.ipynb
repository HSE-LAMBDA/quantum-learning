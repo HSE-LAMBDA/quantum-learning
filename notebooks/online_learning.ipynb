{
 "cells": [
  {
   "cell_type": "code",
   "execution_count": 4,
   "metadata": {},
   "outputs": [
    {
     "name": "stdout",
     "output_type": "stream",
     "text": [
      "env: CUDA_VISIBLE_DEVICES=\"\"\n"
     ]
    }
   ],
   "source": [
    "%env CUDA_VISIBLE_DEVICES=\"\"\n",
    "import sys\n",
    "import numpy as np\n",
    "import tensorflow as tf\n",
    "# gpus = tf.config.experimental.list_physical_devices('GPU')\n",
    "# tf.config.experimental.set_virtual_device_configuration(gpus[1], [tf.config.experimental.VirtualDeviceConfiguration(memory_limit=1024*7)])\n",
    "import matplotlib.pyplot as plt\n",
    "from IPython.display import clear_output\n",
    "%matplotlib inline\n",
    "sys.path.append('../')\n",
    "import lib"
   ]
  },
  {
   "cell_type": "code",
   "execution_count": 5,
   "metadata": {},
   "outputs": [],
   "source": [
    "n_qubits = 2\n",
    "dim = 2 ** n_qubits\n",
    "rho = lib.randomPureState(dim)\n",
    "\n",
    "measurements_cnt = 1000\n",
    "\n",
    "sigma = tf.Variable(tf.eye(dim, dtype=tf.complex128) * (2 ** -n_qubits))\n",
    "sigma_true = tf.Variable(rho, dtype=tf.complex128)\n",
    "\n",
    "eta = 1e-1 # must be < 0.5\n",
    "T = 100000"
   ]
  },
  {
   "cell_type": "code",
   "execution_count": 13,
   "metadata": {},
   "outputs": [
    {
     "data": {
      "application/vnd.jupyter.widget-view+json": {
       "model_id": "2207a08dcb6648989d223755d1d1c064",
       "version_major": 2,
       "version_minor": 0
      },
      "text/plain": [
       "HBox(children=(FloatProgress(value=0.0, description='RTFL', max=100000.0, style=ProgressStyle(description_widt…"
      ]
     },
     "metadata": {},
     "output_type": "display_data"
    },
    {
     "name": "stdout",
     "output_type": "stream",
     "text": [
      "(10, 4, 4)\n",
      "(10,)\n",
      "\n"
     ]
    },
    {
     "ename": "ValueError",
     "evalue": "The truth value of an array with more than one element is ambiguous. Use a.any() or a.all()",
     "output_type": "error",
     "traceback": [
      "\u001b[0;31m---------------------------------------------------------------------------\u001b[0m",
      "\u001b[0;31mValueError\u001b[0m                                Traceback (most recent call last)",
      "\u001b[0;32m<ipython-input-13-c6abd5c7bbd9>\u001b[0m in \u001b[0;36m<module>\u001b[0;34m\u001b[0m\n\u001b[1;32m     30\u001b[0m         \u001b[0mlosses\u001b[0m\u001b[0;34m.\u001b[0m\u001b[0mappend\u001b[0m\u001b[0;34m(\u001b[0m\u001b[0mloss\u001b[0m\u001b[0;34m.\u001b[0m\u001b[0mnumpy\u001b[0m\u001b[0;34m(\u001b[0m\u001b[0;34m)\u001b[0m\u001b[0;34m)\u001b[0m\u001b[0;34m\u001b[0m\u001b[0;34m\u001b[0m\u001b[0m\n\u001b[1;32m     31\u001b[0m         \u001b[0mregret\u001b[0m\u001b[0;34m.\u001b[0m\u001b[0mappend\u001b[0m\u001b[0;34m(\u001b[0m\u001b[0mnp\u001b[0m\u001b[0;34m.\u001b[0m\u001b[0mreal\u001b[0m\u001b[0;34m(\u001b[0m\u001b[0;34m(\u001b[0m\u001b[0mloss\u001b[0m\u001b[0;34m-\u001b[0m\u001b[0;34m(\u001b[0m\u001b[0my_var\u001b[0m\u001b[0;34m-\u001b[0m\u001b[0mtrace_true\u001b[0m\u001b[0;34m)\u001b[0m\u001b[0;34m**\u001b[0m\u001b[0;36m2\u001b[0m\u001b[0;34m)\u001b[0m\u001b[0;34m.\u001b[0m\u001b[0mnumpy\u001b[0m\u001b[0;34m(\u001b[0m\u001b[0;34m)\u001b[0m\u001b[0;34m)\u001b[0m\u001b[0;34m)\u001b[0m\u001b[0;34m\u001b[0m\u001b[0;34m\u001b[0m\u001b[0m\n\u001b[0;32m---> 32\u001b[0;31m         \u001b[0;32mif\u001b[0m \u001b[0mnp\u001b[0m\u001b[0;34m.\u001b[0m\u001b[0mreal\u001b[0m\u001b[0;34m(\u001b[0m\u001b[0msum\u001b[0m\u001b[0;34m(\u001b[0m\u001b[0mlosses\u001b[0m\u001b[0;34m)\u001b[0m\u001b[0;34m)\u001b[0m \u001b[0;34m>=\u001b[0m \u001b[0;36m2\u001b[0m\u001b[0;34m**\u001b[0m\u001b[0mbeta\u001b[0m\u001b[0;34m:\u001b[0m\u001b[0;34m\u001b[0m\u001b[0;34m\u001b[0m\u001b[0m\n\u001b[0m\u001b[1;32m     33\u001b[0m             \u001b[0;32mbreak\u001b[0m\u001b[0;34m\u001b[0m\u001b[0;34m\u001b[0m\u001b[0m\n\u001b[1;32m     34\u001b[0m \u001b[0;34m\u001b[0m\u001b[0m\n",
      "\u001b[0;31mValueError\u001b[0m: The truth value of an array with more than one element is ambiguous. Use a.any() or a.all()"
     ]
    }
   ],
   "source": [
    "from tqdm.notebook import trange\n",
    "progress_bar = trange(1, T+1, desc=f'RTFL', leave=True)\n",
    "global_t = 1\n",
    "regret = []\n",
    "for beta in progress_bar:\n",
    "    if global_t >= T: break\n",
    "    eta = min(np.sqrt(n_qubits*np.log(2)/(2**beta+1)), 0.5)\n",
    "    losses = []\n",
    "    sigma = tf.Variable(tf.eye(dim, dtype=tf.complex128) * (2 ** -n_qubits))\n",
    "#     sigma = tf.Variable(rho, dtype='complex128')\n",
    "    for t in range(T):\n",
    "        global_t += 1\n",
    "        if global_t >= T: break\n",
    "        train_X, train_y = lib.generate_dataset(rho, 10, measurements_cnt)\n",
    "        train_X, train_y = train_X, train_y\n",
    "        \n",
    "\n",
    "        train_y = train_y.astype('float64')\n",
    "        x_var = tf.Variable(train_X, dtype=tf.complex128)\n",
    "        y_var = tf.Variable(train_y, dtype=tf.complex128)\n",
    "\n",
    "        trace = tf.linalg.trace(tf.matmul(x_var, sigma))\n",
    "        trace_true = tf.linalg.trace(tf.matmul(x_var, sigma_true))\n",
    "        loss = (y_var - trace)**2\n",
    "        print(x_var.shape)\n",
    "        print(trace.shape)\n",
    "        \n",
    "        grad = 2*tf.einsum('i,ijk->jk', trace-y_var, x_var)\n",
    "\n",
    "        losses.append(loss.numpy())\n",
    "        regret.append(np.real((loss-(y_var-trace_true)**2).numpy()))\n",
    "        if np.real(sum(losses)) >= 2**beta:\n",
    "            break\n",
    "        \n",
    "        #MEGUPDATE\n",
    "        G = tf.math.log(sigma) - eta*grad\n",
    "        sigma = tf.exp(G)\n",
    "        sigma = tf.Variable(sigma / tf.linalg.trace(sigma))\n",
    "    progress_bar.set_description('Loss: %.4f Fidelity: %.2f' % (loss.numpy(), \n",
    "                                                        lib.utils.fidelity(sigma.numpy(), rho)))\n",
    "    progress_bar.refresh()\n",
    "\n",
    "print('Done!')"
   ]
  },
  {
   "cell_type": "code",
   "execution_count": 4,
   "metadata": {},
   "outputs": [
    {
     "name": "stderr",
     "output_type": "stream",
     "text": [
      "/home/artem/anaconda3/envs/dl/lib/python3.8/site-packages/numpy/core/_asarray.py:85: ComplexWarning: Casting complex values to real discards the imaginary part\n",
      "  return array(a, dtype, copy=False, order=order)\n"
     ]
    },
    {
     "data": {
      "image/png": "[encoded data removed]",
      "text/plain": [
       "<Figure size 720x360 with 2 Axes>"
      ]
     },
     "metadata": {
      "needs_background": "light"
     },
     "output_type": "display_data"
    }
   ],
   "source": [
    "plt.figure(figsize=[10, 5])\n",
    "plt.subplot(1, 2, 1)\n",
    "plt.plot(losses, label='loss')\n",
    "plt.xlabel('T')\n",
    "plt.ylabel('Loss')\n",
    "plt.legend()\n",
    "plt.grid()\n",
    "plt.subplot(1, 2, 2)\n",
    "log_step = np.log(1+np.arange(len(regret)))\n",
    "log_regret = np.log(np.cumsum(regret))\n",
    "# plt.plot(log_step, log_regret, label='regret')\n",
    "# plt.plot(log_step, [np.log(regret_bound)]*len(log_step), label='regret bound')\n",
    "# plt.ylabel('log regret')\n",
    "# plt.xlabel('log T')\n",
    "plt.plot(np.cumsum(regret), label='regret')\n",
    "plt.plot(n_qubits*log_step/3, label='regret bound (O(n*log(T)))')\n",
    "plt.ylabel('regret')\n",
    "plt.xlabel('T')\n",
    "\n",
    "plt.legend()\n",
    "plt.grid()\n",
    "plt.show()"
   ]
  },
  {
   "cell_type": "code",
   "execution_count": null,
   "metadata": {},
   "outputs": [],
   "source": []
  }
 ],
 "metadata": {
  "kernelspec": {
   "display_name": "Python 3",
   "language": "python",
   "name": "python3"
  },
  "language_info": {
   "codemirror_mode": {
    "name": "ipython",
    "version": 3
   },
   "file_extension": ".py",
   "mimetype": "text/x-python",
   "name": "python",
   "nbconvert_exporter": "python",
   "pygments_lexer": "ipython3",
   "version": "3.8.5"
  }
 },
 "nbformat": 4,
 "nbformat_minor": 2
}
