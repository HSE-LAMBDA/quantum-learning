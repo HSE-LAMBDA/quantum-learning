{
 "cells": [
  {
   "cell_type": "code",
   "execution_count": 1,
   "metadata": {},
   "outputs": [],
   "source": [
    "import sys\n",
    "import numpy as np\n",
    "import tensorflow as tf\n",
    "import matplotlib.pyplot as plt\n",
    "from IPython.display import clear_output\n",
    "%matplotlib inline\n",
    "sys.path.append('..')\n",
    "import lib"
   ]
  },
  {
   "cell_type": "code",
   "execution_count": 2,
   "metadata": {},
   "outputs": [],
   "source": [
    "n_qubits = 3\n",
    "dim = 2 ** n_qubits\n",
    "rho = lib.randomPureState(dim)\n",
    "\n",
    "\n",
    "projectors_cnt = 100_000\n",
    "measurements_cnt = 10_000\n",
    "\n",
    "train_X, train_y = lib.generate_dataset(rho, projectors_cnt, measurements_cnt)\n",
    "train_y = train_y.astype('float64')"
   ]
  },
  {
   "cell_type": "code",
   "execution_count": 3,
   "metadata": {},
   "outputs": [
    {
     "name": "stdout",
     "output_type": "stream",
     "text": [
      "eta:\t\t 0.0022800447044300665\n",
      "regret_bound:\t 912.0178817720266\n"
     ]
    }
   ],
   "source": [
    "sigma = tf.Variable(tf.eye(dim, dtype=tf.complex64) * (2 ** -n_qubits))\n",
    "\n",
    "x_var = tf.Variable(train_X, dtype=tf.complex64)\n",
    "y_var = tf.Variable(train_y, dtype=tf.float32)\n",
    "\n",
    "T = 100_000\n",
    "L = 1\n",
    "loss_object = tf.keras.losses.MeanAbsoluteError()\n",
    "\n",
    "eta = np.sqrt(np.log(2) * n_qubits / 4 / T)\n",
    "regret_bound = 2 * L * np.sqrt(np.log(2) * T * n_qubits)\n",
    "\n",
    "print('eta:\\t\\t', eta)\n",
    "print('regret_bound:\\t', regret_bound)"
   ]
  },
  {
   "cell_type": "code",
   "execution_count": 4,
   "metadata": {},
   "outputs": [],
   "source": [
    "loss_history = []\n",
    "metrics_history = []\n",
    "fidelity_history = []\n",
    "\n",
    "cum_grad = tf.Variable(tf.zeros([dim, dim], dtype=tf.complex64))\n",
    "measurements_rho = np.array([lib.simulator.bornRule(x, rho) for x in train_X[T:]])"
   ]
  },
  {
   "cell_type": "code",
   "execution_count": 5,
   "metadata": {},
   "outputs": [
    {
     "data": {
      "text/plain": [
       "<tf.Tensor: shape=(), dtype=float32, numpy=231.0109>"
      ]
     },
     "execution_count": 5,
     "metadata": {},
     "output_type": "execute_result"
    }
   ],
   "source": [
    "pred = tf.math.real(tf.linalg.trace(tf.einsum('bik,kj->bij', x_var[:T], rho)))\n",
    "tf.math.reduce_sum(tf.abs(pred - train_y[:T]))"
   ]
  },
  {
   "cell_type": "code",
   "execution_count": 10,
   "metadata": {
    "scrolled": false
   },
   "outputs": [
    {
     "data": {
      "image/png": "[encoded data removed]",
      "text/plain": [
       "<Figure size 720x360 with 2 Axes>"
      ]
     },
     "metadata": {
      "needs_background": "light"
     },
     "output_type": "display_data"
    }
   ],
   "source": [
    "for t in range(T):  \n",
    "    \n",
    "    with tf.GradientTape() as tape:\n",
    "        trace = tf.math.real(tf.linalg.trace(tf.matmul(x_var[t], sigma)))\n",
    "        loss = tf.abs(trace - y_var[t])\n",
    "    \n",
    "    grad = tf.matmul(tape.gradient(loss, sigma), x_var[t])\n",
    "    cum_grad = cum_grad + grad\n",
    "\n",
    "    sigma = tf.exp(-cum_grad * eta / L)\n",
    "    sigma = tf.Variable(sigma / tf.linalg.trace(sigma))\n",
    "    \n",
    "    loss_history.append(loss)\n",
    "    \n",
    "    if t % 5 == 0:\n",
    "        clear_output(True)\n",
    "        plt.figure(figsize=[10, 5])\n",
    "        plt.subplot(1, 2, 1)\n",
    "        plt.plot(loss_history, label='loss')\n",
    "        plt.legend()\n",
    "        plt.grid()\n",
    "        plt.subplot(1, 2, 2)\n",
    "        plt.plot(np.cumsum(loss_history), label='regret')\n",
    "        plt.legend()\n",
    "        plt.grid()\n",
    "        plt.show()"
   ]
  },
  {
   "cell_type": "code",
   "execution_count": null,
   "metadata": {},
   "outputs": [],
   "source": []
  },
  {
   "cell_type": "code",
   "execution_count": null,
   "metadata": {},
   "outputs": [],
   "source": []
  }
 ],
 "metadata": {
  "kernelspec": {
   "display_name": "Python 3",
   "language": "python",
   "name": "python3"
  },
  "language_info": {
   "codemirror_mode": {
    "name": "ipython",
    "version": 3
   },
   "file_extension": ".py",
   "mimetype": "text/x-python",
   "name": "python",
   "nbconvert_exporter": "python",
   "pygments_lexer": "ipython3",
   "version": "3.7.7"
  }
 },
 "nbformat": 4,
 "nbformat_minor": 2
}
